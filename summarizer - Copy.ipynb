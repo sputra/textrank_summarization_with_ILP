{
 "cells": [
  {
   "cell_type": "code",
   "execution_count": 1,
   "metadata": {},
   "outputs": [],
   "source": [
    "import json\n",
    "import numpy as np\n",
    "import pandas as pd\n",
    "import PyPDF2\n",
    "import docx2txt\n",
    "import sys\n",
    "import matplotlib.pyplot as plt\n",
    "%matplotlib inline \n",
    "import networkx as nx\n",
    "from nltk.tokenize.punkt import PunktSentenceTokenizer\n",
    "from sklearn.feature_extraction.text import TfidfTransformer, CountVectorizer\n",
    "from pyrouge import Rouge155\n",
    "import nltk\n",
    "import seaborn as sns"
   ]
  },
  {
   "cell_type": "code",
   "execution_count": 2,
   "metadata": {},
   "outputs": [],
   "source": [
    "data = []\n",
    "with open('train.01.jsonl') as f:\n",
    "    for line in f:\n",
    "        data.append(json.loads(line))"
   ]
  },
  {
   "cell_type": "code",
   "execution_count": 3,
   "metadata": {},
   "outputs": [
    {
     "data": {
      "text/plain": [
       "list"
      ]
     },
     "execution_count": 3,
     "metadata": {},
     "output_type": "execute_result"
    }
   ],
   "source": [
    "type(data)"
   ]
  },
  {
   "cell_type": "code",
   "execution_count": 14,
   "metadata": {},
   "outputs": [],
   "source": [
    "import sys\n",
    "pd.set_option(\"display.max_colwidth\", 0)\n",
    "np.set_printoptions(threshold=sys.maxsize)"
   ]
  },
  {
   "cell_type": "code",
   "execution_count": 4,
   "metadata": {},
   "outputs": [
    {
     "name": "stdout",
     "output_type": "stream",
     "text": [
      "[['Lula', 'menuturkan', ',', 'sakit', 'itu', 'membuat', 'Ryan', 'mesti', 'vakum', 'dari', 'semua', 'kegiatannya', ',', 'termasuk', 'menjadi', 'pembawa', 'acara', 'Dokter', 'Oz', 'Indonesia', '.'], ['Kondisi', 'itu', 'membuat', 'Ryan', 'harus', 'kembali', 'ke', 'kampung', 'halamannya', 'di', 'Pekanbaru', ',', 'Riau', 'untuk', 'menjalani', 'istirahat', '.']]\n"
     ]
    }
   ],
   "source": [
    "print(data[0]['paragraphs'][1])"
   ]
  },
  {
   "cell_type": "code",
   "execution_count": 5,
   "metadata": {},
   "outputs": [],
   "source": [
    "import pandas as pd"
   ]
  },
  {
   "cell_type": "code",
   "execution_count": 7,
   "metadata": {},
   "outputs": [],
   "source": [
    "df = pd.DataFrame(data)"
   ]
  },
  {
   "cell_type": "code",
   "execution_count": 10,
   "metadata": {},
   "outputs": [
    {
     "data": {
      "text/html": [
       "<div>\n",
       "<style scoped>\n",
       "    .dataframe tbody tr th:only-of-type {\n",
       "        vertical-align: middle;\n",
       "    }\n",
       "\n",
       "    .dataframe tbody tr th {\n",
       "        vertical-align: top;\n",
       "    }\n",
       "\n",
       "    .dataframe thead th {\n",
       "        text-align: right;\n",
       "    }\n",
       "</style>\n",
       "<table border=\"1\" class=\"dataframe\">\n",
       "  <thead>\n",
       "    <tr style=\"text-align: right;\">\n",
       "      <th></th>\n",
       "      <th>category</th>\n",
       "      <th>gold_labels</th>\n",
       "      <th>id</th>\n",
       "      <th>paragraphs</th>\n",
       "      <th>source</th>\n",
       "      <th>source_url</th>\n",
       "      <th>summary</th>\n",
       "    </tr>\n",
       "  </thead>\n",
       "  <tbody>\n",
       "    <tr>\n",
       "      <th>0</th>\n",
       "      <td>tajuk utama</td>\n",
       "      <td>[[False, True], [True, True], [False, False, F...</td>\n",
       "      <td>1501893029-lula-kamal-dokter-ryan-thamrin-saki...</td>\n",
       "      <td>[[[Jakarta, ,, CNN, Indonesia, -, -, Dokter, R...</td>\n",
       "      <td>cnn indonesia</td>\n",
       "      <td>https://www.cnnindonesia.com/hiburan/201708041...</td>\n",
       "      <td>[[Dokter, Lula, Kamal, yang, merupakan, selebr...</td>\n",
       "    </tr>\n",
       "    <tr>\n",
       "      <th>1</th>\n",
       "      <td>teknologi</td>\n",
       "      <td>[[False, False, False, False], [False, True, T...</td>\n",
       "      <td>1509072914-dua-smartphone-zenfone-baru-tawarka...</td>\n",
       "      <td>[[[Selfie, ialah, salah, satu, tema, terpanas,...</td>\n",
       "      <td>dailysocial.id</td>\n",
       "      <td>https://dailysocial.id/post/dua-smartphone-zen...</td>\n",
       "      <td>[[Asus, memperkenalkan,  , ZenFone, generasi, ...</td>\n",
       "    </tr>\n",
       "    <tr>\n",
       "      <th>2</th>\n",
       "      <td>hiburan</td>\n",
       "      <td>[[True], [True], [False, False], [False], [Fal...</td>\n",
       "      <td>1510613677-songsong-visit-2020-bengkulu-perkua...</td>\n",
       "      <td>[[[Jakarta, ,, CNN, Indonesia, -, -, Dinas, Pa...</td>\n",
       "      <td>cnn indonesia</td>\n",
       "      <td>https://www.cnnindonesia.com/gaya-hidup/201711...</td>\n",
       "      <td>[[Dinas, Pariwisata, Provinsi, Bengkulu, kemba...</td>\n",
       "    </tr>\n",
       "    <tr>\n",
       "      <th>3</th>\n",
       "      <td>tajuk utama</td>\n",
       "      <td>[[True, True], [False, False, False], [True], ...</td>\n",
       "      <td>1502706803-icw-ada-kejanggalan-atas-tewasnya-s...</td>\n",
       "      <td>[[[Merdeka.com, -, Indonesia, Corruption, Watc...</td>\n",
       "      <td>merdeka</td>\n",
       "      <td>https://www.merdeka.com/peristiwa/icw-merasa-a...</td>\n",
       "      <td>[[Indonesia, Corruption, Watch, (, ICW, ), mem...</td>\n",
       "    </tr>\n",
       "    <tr>\n",
       "      <th>4</th>\n",
       "      <td>tajuk utama</td>\n",
       "      <td>[[False, True], [True, True, True], [False], [...</td>\n",
       "      <td>1503039338-pembagian-sepeda-usai-upacara-penur...</td>\n",
       "      <td>[[[Merdeka.com, -, Presiden, Joko, Widodo, (, ...</td>\n",
       "      <td>merdeka</td>\n",
       "      <td>https://www.merdeka.com/peristiwa/usai-upacara...</td>\n",
       "      <td>[[Jokowi, memimpin, upacara, penurunan, bender...</td>\n",
       "    </tr>\n",
       "  </tbody>\n",
       "</table>\n",
       "</div>"
      ],
      "text/plain": [
       "      category                                        gold_labels  \\\n",
       "0  tajuk utama  [[False, True], [True, True], [False, False, F...   \n",
       "1    teknologi  [[False, False, False, False], [False, True, T...   \n",
       "2      hiburan  [[True], [True], [False, False], [False], [Fal...   \n",
       "3  tajuk utama  [[True, True], [False, False, False], [True], ...   \n",
       "4  tajuk utama  [[False, True], [True, True, True], [False], [...   \n",
       "\n",
       "                                                  id  \\\n",
       "0  1501893029-lula-kamal-dokter-ryan-thamrin-saki...   \n",
       "1  1509072914-dua-smartphone-zenfone-baru-tawarka...   \n",
       "2  1510613677-songsong-visit-2020-bengkulu-perkua...   \n",
       "3  1502706803-icw-ada-kejanggalan-atas-tewasnya-s...   \n",
       "4  1503039338-pembagian-sepeda-usai-upacara-penur...   \n",
       "\n",
       "                                          paragraphs          source  \\\n",
       "0  [[[Jakarta, ,, CNN, Indonesia, -, -, Dokter, R...   cnn indonesia   \n",
       "1  [[[Selfie, ialah, salah, satu, tema, terpanas,...  dailysocial.id   \n",
       "2  [[[Jakarta, ,, CNN, Indonesia, -, -, Dinas, Pa...   cnn indonesia   \n",
       "3  [[[Merdeka.com, -, Indonesia, Corruption, Watc...         merdeka   \n",
       "4  [[[Merdeka.com, -, Presiden, Joko, Widodo, (, ...         merdeka   \n",
       "\n",
       "                                          source_url  \\\n",
       "0  https://www.cnnindonesia.com/hiburan/201708041...   \n",
       "1  https://dailysocial.id/post/dua-smartphone-zen...   \n",
       "2  https://www.cnnindonesia.com/gaya-hidup/201711...   \n",
       "3  https://www.merdeka.com/peristiwa/icw-merasa-a...   \n",
       "4  https://www.merdeka.com/peristiwa/usai-upacara...   \n",
       "\n",
       "                                             summary  \n",
       "0  [[Dokter, Lula, Kamal, yang, merupakan, selebr...  \n",
       "1  [[Asus, memperkenalkan,  , ZenFone, generasi, ...  \n",
       "2  [[Dinas, Pariwisata, Provinsi, Bengkulu, kemba...  \n",
       "3  [[Indonesia, Corruption, Watch, (, ICW, ), mem...  \n",
       "4  [[Jokowi, memimpin, upacara, penurunan, bender...  "
      ]
     },
     "execution_count": 10,
     "metadata": {},
     "output_type": "execute_result"
    }
   ],
   "source": [
    "df.head(5)"
   ]
  },
  {
   "cell_type": "code",
   "execution_count": 15,
   "metadata": {},
   "outputs": [
    {
     "data": {
      "text/html": [
       "<div>\n",
       "<style scoped>\n",
       "    .dataframe tbody tr th:only-of-type {\n",
       "        vertical-align: middle;\n",
       "    }\n",
       "\n",
       "    .dataframe tbody tr th {\n",
       "        vertical-align: top;\n",
       "    }\n",
       "\n",
       "    .dataframe thead th {\n",
       "        text-align: right;\n",
       "    }\n",
       "</style>\n",
       "<table border=\"1\" class=\"dataframe\">\n",
       "  <thead>\n",
       "    <tr style=\"text-align: right;\">\n",
       "      <th></th>\n",
       "      <th>paragraphs</th>\n",
       "      <th>summary</th>\n",
       "    </tr>\n",
       "  </thead>\n",
       "  <tbody>\n",
       "    <tr>\n",
       "      <th>0</th>\n",
       "      <td>[[[Jakarta, ,, CNN, Indonesia, -, -, Dokter, Ryan, Thamrin, ,, yang, terkenal, lewat, acara, Dokter, Oz, Indonesia, ,, meninggal, dunia, pada, Jumat, (, 4, /, 8, ), dini, hari, .], [Dokter, Lula, Kamal, yang, merupakan, selebriti, sekaligus, rekan, kerja, Ryan, menyebut, kawannya, itu, sudah, sakit, sejak, setahun, yang, lalu, .]], [[Lula, menuturkan, ,, sakit, itu, membuat, Ryan, mesti, vakum, dari, semua, kegiatannya, ,, termasuk, menjadi, pembawa, acara, Dokter, Oz, Indonesia, .], [Kondisi, itu, membuat, Ryan, harus, kembali, ke, kampung, halamannya, di, Pekanbaru, ,, Riau, untuk, menjalani, istirahat, .]], [[\", Setahu, saya, dia, orangnya, sehat, ,, tapi, tahun, lalu, saya, dengar, dia, sakit, .], [(, Karena, ), sakitnya, ,, ia, langsung, pulang, ke, Pekanbaru, ,, jadi, kami, yang, mau, jenguk, juga, susah, .], [Barangkali, mau, istirahat, ,, ya, betul, juga, ,, kalau, di, Jakarta, susah, isirahatnya, ,, \", kata, Lula, kepada, CNNIndonesia.com, ,, Jumat, (, 4, /, 8, ), .]], [[Lula, yang, mengenal, Ryan, sejak, sebelum, aktif, berkarier, di, televisi, mengaku, belum, sempat, membesuk, Ryan, lantaran, lokasi, yang, jauh, .], [Dia, juga, tak, tahu, penyakit, apa, yang, diderita, Ryan, .]], [[\", Itu, saya, enggak, tahu, ,, belum, sempat, jenguk, dan, enggak, selamanya, bisa, dijenguk, juga, .], [Enggak, tahu, berat, sekali, apa, bagaimana, ,, \", tutur, Ryan, .]], [[Walau, sudah, setahun, menderita, sakit, ,, Lula, tak, mengetahui, apa, penyebab, pasti, kematian, Dr, Oz, Indonesia, itu, .], [Meski, demikian, ,, ia, mendengar, beberapa, kabar, yang, menyebut, bahwa, penyebab, Ryan, meninggal, adalah, karena, jatuh, di, kamar, mandi, .]], [[“, Saya, tidak, tahu, ,, barangkali, penyakit, yang, dulu, sama, yang, sekarang, berbeda, ,, atau, penyebab, kematiannya, beda, dari, penyakit, sebelumnya, .], [Kita, kan, enggak, bisa, mengambil, kesimpulan, ,, \", kata, Lula, .]], [[Ryan, Thamrin, terkenal, sebagai, dokter, yang, rutin, membagikan, tips, dan, informasi, kesehatan, lewat, tayangan, Dokter, Oz, Indonesia, .]], [[Ryan, menempuh, Pendidikan, Dokter, pada, tahun, 2002, di, Fakultas, Kedokteran, Universitas, Gadjah, Mada, .], [Dia, kemudian, melanjutkan, pendidikan, Klinis, Kesehatan, Reproduksi, dan, Penyakit, Menular, Seksual, di, Mahachulalongkornrajavidyalaya, University, ,, Bangkok, ,, Thailand, pada, 2004, .]]]</td>\n",
       "      <td>[[Dokter, Lula, Kamal, yang, merupakan, selebriti, sekaligus, rekan, kerja, Ryan, Thamrin, menyebut, kawannya, itu, sudah, sakit, sejak, setahun, yang, lalu, .], [Lula, menuturkan, ,, sakit, itu, membuat, Ryan, mesti, vakum, dari, semua, kegiatannya, ,, termasuk, menjadi, pembawa, acara, Dokter, Oz, Indonesia, .], [Kondisi, itu, membuat, Ryan, harus, kembali, ke, kampung, halamannya, di, Pekanbaru, ,, Riau, untuk, menjalani, istirahat, .]]</td>\n",
       "    </tr>\n",
       "    <tr>\n",
       "      <th>1</th>\n",
       "      <td>[[[Selfie, ialah, salah, satu, tema, terpanas, di, kalangan, produsen, smartphone, ,, bahkan, menjadi, senjata, andalan, beberapa, brand, terkenal, .], [Anda, mungkin, berpikir, bahwa, saat, ini, ,, pasar, handset, spesialis, selfie, sudah, sangat, sesak, .], [Tapi, Asus, masih, melihat, adanya, peluang, besar, menanti, di, sana, .], [Dari, data, mereka, ,, sebanyak, 71, persen, orang, Indonesia, setidaknya, mengambil, selfie, atau, wefie, setiap, minggu, .]], [[Setelah, mulai, menyelami, ranah, swafoto, dua, tahun, silam, lewat, ZanFone, Selfie, ,, sang, produsen, hardware, asal, Taiwan, itu, akhirnya, membawa, sepasang, pewarisnya, ke, tanah, air, .], [Handset, -, handset, ini, merupakan, anggota, keluarga, ZenFone, generasi, keempat, dan, keduanya, sama-sama, dibekali, setup, kamera, ganda, di, depan, .], [Mereka, adalah, Asus, ZenFone, 4, Selfie, Pro, ZD552KL, dan, ZenFone, 4, Selfie, ZD553KL, .]], [[CEO, Asus, Jerry, Shen, menjelaskan, bahwa, sudah, waktunya, bagi, Asus, untuk, memberikan, penawaran, baru, buat, penggemar, self, -, portrait, demi, menunjukkan, keseriusan, mereka, di, segmen, itu, .], [Walaupun,  , telah, tersedia, banyak, pilihan, ,,  , Asus, berpendapat, bahwa, konsumen, di, Indonesia, membutuhkan, solusi, yang, ‘, lebih, profesional’, .], [Dua, ZenFone, Selfie, anyar, ini, kabarnya, diracik, sedemikian, rupa, sebagai, jawaban, atas, kekurangan, yang, ada, di, perangkat, -, perangkat, kompetitor, ,, khususnya, pada, aspek, jangkauan, lensa, dan, performa, di, kondisi, low-light, .]], [[ZenFone, 4, Selfie, Pro,  , merupakan, produk, swafoto, pamungkas, Asus, .], [Tubuh, berbahan, aluminiumnya, dibuat, melalui, teknik, nano, molding, dan, tiap, lekukannya, dibentuk, secara, presisi, .], [Dipadu, layar, berlapis, Corning, Gorilla, Glass, 5, 2.5D, ,, saya, akui, penampilan, handset, ini, sangat, menawan, ,, terutama,  , untuk, varian, berwarna, merahnya, .], [Sebagai, jendela, akses, konten, ,, smartphone,   , menghidangkan, layar, AMOLED, 1080p, berkepadatan, 401, ppi, seluas, 5,5, -, inci, .]], [[Atraksi, utama, dari, ZenFone, 4, Selfie, Pro, tentu, saja, adalah, kamera, depannya, .], [Di, sana, ,, Asus, mencantumkan, sistem, DuoPixel, 24Mp, ,, berisi, kombinasi, sepasang, sensor, Sony, Exmor, RS, IMX362, 1,4, µm, 12, -, megapixel, dengan, aperture, f/1.8, ,, ditambah, sensor, Omnivision, 5670, 1,12, µm, f/2.2, yang, memiliki, lensa, wide-angle, 120, derajat, ,, sehingga, kamera, bisa, merangkul, objek, dua, kali, lebih, banyak, –, memungkinkan, Anda, ber-selfie, bersama, kawan, ataupun, keluarga, tanpa, bantuan, monopod, .]], [[Selain, itu, ,, Asus, melengkapi, ZenFone, 4, Selfie, Pro, dengan, bundel, perkakas, khusus, swafoto, bernama, SelfieMaster, .], [Tool, ini, berisi, fitur-fitur, krusial, semisal, beautify, (, buat, foto, maupun, video, ), ,, serta, kolase, dan, BeautyLive, .], [Produsen, juga, tak, lupa, menyiapkan, flash, LED, softlight,  , untuk, membantu, pengambilan, foto, di, kondisi, temaram, .]], [[Kamera, belakangnya, sendiri, mengandalkan, sensor, Sony, Exmor, IMX351, 1, µm, 16, -, megapixel, berlensa, 26, mm, f/2.2, .], [Ia, dibantu, sistem, electronic, image, stabilization, ,, phase, detection, autofocus, ,, serta, LED, dual, -, tone, flash, .]], [[Di, dalam, ,, Asus, mempersenjatai, ZD552KL, dengan, chip, Qualcomm, Snapdragon, 625, (, ada, prosesor, octa-core, Cortex, -, A53, 2, GHz, dan, GPU, Adreno, 506, ), ,, RAM, sebesar, 4, GB, ,, ROM, 64, GB, ,, dan, baterai, 3.000, mAh, .], [Smartphone, berjalan, di, sistem, operasi, Android, 7.1.1, Nougat, plus, interface, ZenUI, 4.0, .]], [[ZD553KL, ialah, alternatif, lebih, terjangkau, dari, saudarinya, di, atas, .], [Handset, mengusung, arahan, desain, serupa, ZenFone, 4, Selfie, Pro, ,, namun, konstruksi, tubuhnya, terbuat, dari, plastik, ,, dan, layar, IPS, 5,5, -, incinya, menyajikan, resolusi, 720p, .], [Tapi, jangan, cemas, soal, penampilannya, ,, smartphone, tetap, memanfaatkan, kaca, 2.5D, sehingga, memberi, kesan, menyambung, pada, lekukan, di, sisi, samping, .]], [[Kapabilitas, swafoto, ZenFone, 4, Selfie, bersandar, pada, sensor, Omnivision, 20880, 1, µm, 20, -, megapixel, f/2.0, dan, sensor, Omnivision, 8856, 1,12, µm, f/2.4, dengan, lensa, wide-angle, 120, derajat, .], [Sudut, jangkauan, jepretan, dan, sejumlah, kelengkapannya, tak, berbeda, dari, Selfie, 4, Pro, .], [Anda, kembali, dihindangkan, SelfieMaster, ,, flash, LED, softlight, ,, mode, panorama, ,, serta, HDR, .]], [[Ukuran, megapixel, kamera, belakangnya, setara, ZenFone, 4, Selfie, Pro, ,, namun, jenis, sensornya, berbeda, .], [Smartphone, tersebut, menggunakan, Omnivision, 16880, 1, µm, 16Mp, dengan, aperture, lensa, f/2.2, .], [Meski, demikian, ,, fitur-fitur, penunjang, fotografi, seperti, PDAF, ,, EIS, ,, dan, flash, LED, juga, tetap, ada, di, sana, .]], [[ZenFone, 4, Selfie, diotaki, system-on-chip, Qualcomm, Snapdragon, 430, ,, berisi, CPU, octa-core, Cortex, -, A53, 1,4, GHz, dan, GPU, Adreno, 505, .], [Handset, menyimpan, RAM, 4, GB, ,, memori, internal, 64, GB, ,, lalu, tenaganya, dipasok, oleh, baterai, 3.000, mAh, non, -, removable, di, dalam, .], [Satu, keunikan, yang, membuat, ZD553KL, lebih, ‘, unggul’, dari, ZenFone, 4, Selfie, Pro, adalah, dukungan, tiga, slot, kartu, :, dua, untuk, SIM, ,, dan, satu, lagi, buat, microSD, (, storage, dapat, diekspansi,  , sampai,  , 2, TB, ), .], [Smartphone, juga, beroperasi, di, platform, Android, 7.1.1, Nougat, dengan, ZenUI, 4.0, .]], [[ZenFone, 4, Selfie, Pro, ZD552KL, dibanderol, seharga, Rp, 5, juta, ,, sedangkan, ZenFone, 4, Selfie, ZD553KL, dipatok, di, harga, Rp, 3,5, juta, .], [Kedua, perangkat, sudah, mulai, dipasarkan, mulai, tanggal, 25, November, ,, dan, sampai,  , tanggal, 10, November, nanti, ,, paket, penjualan, turut, dibundel, bersama, ‘, Gong, Yoo, Special, Gift, Box’, serta, speaker, Bluetooth, khusus, ZenFone, 4, Selfie, Pro, –, selama, persediaan, masih, ada, .]], [[DailySocial.id, adalah, portal, berita, startup, dan, inovasi, teknologi, .], [Kamu, bisa, menjadi, member, komunitas, startup, dan, inovasi, DailySocial.id, ,, mengunduh, laporan, riset, dan, statistik, seputar, teknologi, secara, cuma-cuma, ,, dan, mengikuti, berita, startup, Indonesia, dan, gadget, terbaru, .]]]</td>\n",
       "      <td>[[Asus, memperkenalkan,  , ZenFone, generasi, keempat, dan, keduanya, sama-sama, dibekali, setup, kamera, ganda, di, depan, .], [Mereka, adalah, Asus, ZenFone, 4, Selfie, Pro, ZD552KL, dan, ZenFone, 4, Selfie, ZD553KL, .], [Dua, ZenFone, Selfie, anyar, ini, kabarnya, diracik, sedemikian, rupa, sebagai, jawaban, atas, kekurangan, yang, ada, di, perangkat, -, perangkat, kompetitor, ,, khususnya, pada, aspek, jangkauan, lensa, dan, performa, di, kondisi, low-light, .]]</td>\n",
       "    </tr>\n",
       "    <tr>\n",
       "      <th>2</th>\n",
       "      <td>[[[Jakarta, ,, CNN, Indonesia, -, -, Dinas, Pariwisata, Provinsi, Bengkulu, kembali, menggelar, kegiatan, Bimbingan, Teknis, (, Bimtek, ), SDM, Kepariwisataan, dalam, menyongson, \", Visit, 2020, Wonderful, Bengkulu, \", .]], [[Kegiatan, yang, berlangsung, pada, 8, hingga, 10, November, kemarin, tersebut, sebagai, bagian, dari, upaya, Pemerintah, Provinsi, Bengkulu, dalam]], [[Hadir, sebagai, pemateri, kegiatan, pada, 8, -, 10, November, itu, adalah, Plt.], [Asdep, Strategi, Pemasaran, Pariwisata, Nusantara, ,, Deputi, Bidang, Pengembangan, Pemasaran, Pariwisata, Nusantara, Hariyanto, serta, perwakilan, dari, Deputi, Bidang, Pengembangan, Kelembagaan, Kementerian, Pariwisata, ,, Faizal, .]], [[Kepala, Dinas, Pariwisata, Provinsi, Bengkulu, Yudi, Satria, mengatakan, ,, kegiatan, Bimtek, diikuti, 250, peserta, yang, terdiri, dari, aparatur, Pemerintah, Provinsi, ,, ASN, Kabupaten, /, Kota, ,, Kelompok, Sadar, Wisata, serta, pihak, terkait, sektor, pariwisata, di, Bengkulu, .]], [[\", Kegiatan, ini, dimaksudkan, untuk, memberikan, pembekalan, kepada, peserta, di, bidang, kepariwisataan, ,, \", ujar, Yudi, Satria, .]], [[Ia, mengatakan, ,, Pemprov, telah, menetapkan, pariwisata, sebagai, salah, satu, sektor, yang, akan, dikembangkan, dan, akan, menjadi, sektor, unggulan, dalam, meningkatkan, pertumbuhan, ekonomi, daerah, serta, masyarakat, .]], [[Hal, itu, ,, jelas, Yudi, ,, tidak, lepas, dari, potensi, pariwisata, di, Bengkulu, yang, besar, memiliki, kekayaan, alam, yang, indah, serta, budaya, yang, tinggi, .]], [[\", Karena, itu, pula, Pemprov, telah, menetapkan, program, ', Visit, 2020, Wonderful, Bengkulu, \", yang, akan, menjadi, tujuan, besar, pariwisata, Bengkulu, .], [Salah, satu, poin, utamanya, adalah, upaya, menghasilkan, SDM, pariwisata, yang, andal, yang, akan, diwujudkan, melalui, Bimtek, ini, ,, \", ujar, Yudi, .]], [[Selain, itu, ,, dalam, menunjang, proses, ', Visit, 2020, Wonderful, Bengkulu, ', ,, Pemprov, juga, telah, menyiapkan, 52, acara, yang, akan, digelar, dalam, satu, tahun, ke, depan, yang, bertujuan, mengangkat, potensi, lokal, ke, kelas, dunia, .]], [[\", Salah, satu, yang, dirancang, secara, besar, adalah, Sail, Bengkulu, yang, akan, menjual, keindahan, alam, laut, Bengkulu, yang, berhadapan, langsung, dengan, Samudera, Hindia, ,, \", kata, dia, .]], [[Ajang, lainnya, tentunya, Festival, Tabot, Muharam, yang, selalu, menyedot, minat, ribuan, wisatawan, setiap, tahun, serta, Festival, Bumi, Rafflesia, .]], [[\", Semua, kegiatan, ini, harus, disinkronkan, ,, penguatan, SDM, dan, bagaimana, promosi, pemasarannya, agar, semua, acara, ini, layak, jual, untuk, wisatawan, ,, \", ujarnya, .]], [[Sementara, Hariyanto, dalam, kesempatan, itu, menyampaikan, materi, tentang, pengembangan, SDM, sektor, pariwisata, dan, pengemasan, serta, pemasaran, satu, acara, .]], [[Dalam, paparanya, ia, menjelaskan, ,, bahwa, Bimtek, penting, untuk, meningkatkan, kompetensi, SDM, kepariwisataan, sehingga, mampu, berperan, dalam, peningkatan, pembangunan, kepariwisataan, .]], [[Selain, itu, ia, menegaskan, bahwa, dalam, pengembangan, pariwisata, ,, promosi, juga, hal, yang, harus, diperhatikan, .]], [[Misalnya, penekanan, pada, mekanisme, promosi, pariwisata, secara, digital, atau, daring, ,, penyelenggaraan, acara, juga, harus, terkurasi, dengan, baik, sehingga, memiliki, daya, tarik, yang, kuat, .]], [[\", Bagaimana, juga, meningkatkan, efektivitas, partisipasi, Dinas, Pariwisata, pada, penyelenggaraan, acara, dan, bagaimana, cara, memasarkan, dan, mempromosikan, agar, bisa, dikenal, dan, menjadi, daya, tarik, wisatawan, ,, ”, terang, Hariyanto, .]], [[Deputi, Pengembangan, Pemasaran, Pariwisata, Nusantara, ,, Esthy, Reko, Astuti, mengatakan, ,, Bimtek, kali, ini, juga, bertujuan, memberi, perspektif, dan, arah, yang, sama, tentang, program, promosi, Pariwisata, di, Bengkulu, .]], [[\", Selain, itu, juga, untuk, memahami, potensi, destinasi, -, destinasi, wisata, di, Bengkulu, ,, \", ujar, Esthy, .]], [[Menteri, Pariwisata, Arief, Yahya, mengapresiasi, kegiatan, Bimtek, sebagai, salah, satu, upaya, dan, komitmen, dari, Pemerintah, Provinsi, Bengkulu, dalam, mewujudkan, pariwisata, sebagai, salah, satu, sektor, utama, .], [Ia, pun, berkomitmen, akan, mendung, Penprov, dalam, mewujudkan, \", Visit, 2020, Wonderful, Bengkulu, \", .]], [[\", Obyek, wisata, andalan, Bengkulu, ,, Benteng, Marlborough, ,, Rumah, Bung, Karno, ,, Pantai, Panjang, yang, memiliki, pasir, putih, yang, indah, dan, bersih, .], [Semuanya, world, class, ,, ditambah, dengan, puluhan, atraksi, didalamnya, ,, tinggal, kita, akan, dukung, dan, promosikan, ', Bengkulu, Visit, ', sehingga, lebih, mendunia, ,, \", kata, Arief, (, syahb, )]]]</td>\n",
       "      <td>[[Dinas, Pariwisata, Provinsi, Bengkulu, kembali, menggelar, kegiatan, Bimbingan, Teknis, (, Bimtek, ), SDM, Kepariwisataan, dalam, menyongson, \", Visit, 2020, Wonderful, Bengkulu, \", pada, 8, -, 10, November, 2017, yang, lalu, .], [Kegiatan, yang, berlangsung, pada, 8, hingga, 10, November, kemarin, tersebut, sebagai, bagian, dari, upaya, Pemerintah, Provinsi, Bengkulu, dalam, memperkuat, SDM, Pariwisata, untuk, menyongsong, \", Visit, 2020, Wonderful, Bengkulu, \", .]]</td>\n",
       "    </tr>\n",
       "    <tr>\n",
       "      <th>3</th>\n",
       "      <td>[[[Merdeka.com, -, Indonesia, Corruption, Watch, (, ICW, ), meminta, Komisi, Pemberantas,  , Korupsi, (, KPK, ), ikut, memantau, perkembangan, atas, meninggalnya, saksi, kunci, kasus, mega, korupsi, e, -, KTP, ,, Johannes, Marliem, .], [Peneliti, ICW, Divisi, Hukum, dan, Monitoring, Peradila, ,, Aradila, Caesar, mengatakan, momentum, meninggalnya, saksi, kunci, tersebut, menimbulkan, kejanggalan, dan, tanda, tanya, besar, .]], [[\", Orang, meninggal, kita, kan, tidak, bisa, prediksi, itu, bukan, kuasa, kita, .], [Tapi, kalau, kita, melihat, momentum, kan, ada, suatu, kejanggalan, .], [Kenapa, momentum, meninggalnya, ,, saat, kasus, e, -, ktp, sedang, ditangani, oleh, KPK, ,, \", katanya, seusai, konferensi, pers, di, Kantor, Sekeretariatan, ICW, ,,  , Jakarta, ,, Minggu(13, /, 8, ), .]], [[Pihak, ICW, meminta, KPK, turut, menyelidiki, kematian, saksi, kunci, ini, dan, menjelaskan, kepada, masyarakat, apakah, ada, keterkaitan, dengan, permasalahan, korupsi, e, -, KTP, atau, hal-hal, lain, dibalik, kematian, Johannes, .]], [[\", Kita, minta, KPK, dan, juga, bekerja, sama, dengan, pihak, otoritas, untuk, menyelidiki, kematian, dari, saksi, kunci, tersebut, dengan, serius, .], [Artinya, nanti, KPK, harus, bisa, menjelaskan, kepada, publik, kenapa, kematiannya, ,, \", pintanya, .]], [[ICW, berharap, dengan, kematian, saksi, kunci, ,, tidak, membuat, efek, negatif, untuk, permasalahan, kasus, e, -, KTP, ini, .], [\", Jangan, sampai, kematiannya, berdampak, negatif, dalam, konteks, membongkar, kasus, e, -, ktp, tersebut, ,, \", pungkasnya, .], [[, ded, ]]]]</td>\n",
       "      <td>[[Indonesia, Corruption, Watch, (, ICW, ), meminta, Komisi, Pemberantas, Korupsi,  , (, KPK, ), ikut, memantau, perkembangan, atas, meninggalnya, saksi, kunci, kasus, mega,  , korupsi,  , e, -, KTP, ,, Johannes, Marliem, dan, menjelaskan, kepada, masyarakat, apakah, ada, keterkaitan, dengan, permasalahan, korupsi, e, -, KTP, atau, hal-hal, lain, dibalik, kematian, Johannes, .], [Peneliti, ICW, Divisi, Hukum, dan, Monitoring, Peradila, ,, Aradila, Caesar, mengatakan, momentum, meninggalnya, saksi, kunci, tersebut, menimbulkan, kejanggalan, dan, tanda, tanya, besar, .]]</td>\n",
       "    </tr>\n",
       "    <tr>\n",
       "      <th>4</th>\n",
       "      <td>[[[Merdeka.com, -, Presiden, Joko, Widodo, (, Jokowi, ), memimpin, upacara, penurunan, bendera, di, Halaman, Istana, Merdeka, ,,  , Jakarta, .], [Usai, prosesi, penurunan, bendera, dilakukan, ,, Jokowi, kembali, bagi-bagi, sepeda, kepada, tamu, undangan, yang, mengenakan, pakaian, adat, terbaik, .]], [[Berbeda, dengan, saat, upacara, pengibaran, bendera, ,, bagi-bagi, sepeda, kali, ini, diumumkan, oleh, Wakil, Presiden, Jusuf, Kalla, (, JK, ), .], [Hal, berbeda, juga, terjadi, bagi, mereka, yang, menerima, .], [Apabila, sepeda, diberikan, ke, pejabat, negara, mau, pun, keluarga, ,, kali, ini, sepeda, diberikan, kepada, masyarakat, biasa, .]], [[\", Seperti, tadi, pagi, ,, sore, ini, juga, panitia, membentuk, tim, penilai, untuk, menilai, siapa, yang, berbusana, tradisional, adat, -, adat, daerah, yang, paling, baik, sore, ini, ,, \", kata, JK, .]], [[Kelima, penerima, sepeda, di, antaranya, ,, Frans, Maksim, yang, merupakan, Kepala, Suku, Arfak, ,, Papua, ,, Ratna, Dewi, Budiono, yang, mengenakan, pakaian, adat, Dayak, ,, Yusak, Rumambi, yang, mengenakan, pakaian, adat, Sulawesi, Utara, ,, Teuku, Johan, Marzuki, yang, mengenakan, pakaian, adat, Aceh, .], [Terakhir, ,, ada, Sumahartarti, yang, mengenakan, pakaian, adat, asal, Bengkulu, .]], [[\", Silakan, semua, datang, ke, panggung, .], [Mendapat, sepeda, dari, Bapak, Presiden, bisa, langsung, dipakai, keliling, -, keliling, nanti, ,, \", ujarnya, .]], [[Pada, Upacara, Pengibaran, Bendera, ,, lima, orang, menggunakan, pakaian, adat, terbaik, ,, yakni, Menteri, Hukum, dan, Hak, Asasi, Manusia, (, Menkum, HAM, ), Yasonna, Hamonangan, Laoly, dengan, pakaian, adat, Nias, ,, Ketua, DPD, RI, Oesman, Sapta, Odang, yang, menggunakan, pakaian, adat, Minang, ,, dan, Asisten, Ajudan, Presiden, Syarif, Muhammad, Fidriansyah, dengan, pakaian, adat, Dayak, ,, Kalimantan, Barat, .]], [[Dua, orang, lainnya, adalah, istri, Kapolri, Jenderal, Pol, Tito, Karnavian, ,, Tri, Suswati, yang, mengenakan, pakaian, adat, Papua, ,, dan, istri, Wakil, Ketua, MPR, Mahyudin, ,, Agati, Suli, menggunakan, baju, adat, Dayak, .], [[, bal, ]]]]</td>\n",
       "      <td>[[Jokowi, memimpin, upacara, penurunan, bendera, .], [Usai, prosesi, tersebut, ,, Jokowi, bagi-bagi, sepeda, kepada, tamu, undangan, yang, mengenakan, pakaian, adat, terbaik, .], [Berbeda, dengan, saat, upacara, pengibaran, bendera, ,, bagi-bagi, sepeda, kali, ini, diumumkan, oleh, Wakil, Presiden, Jusuf, Kalla, (, JK, ), .], [Hal, berbeda, juga, terjadi, bagi, mereka, yang, menerima, .], [Apabila, sepeda, diberikan, ke, pejabat, negara, mau, pun, keluarga, ,, kali, ini, sepeda, diberikan, kepada, masyarakat, biasa, .]]</td>\n",
       "    </tr>\n",
       "  </tbody>\n",
       "</table>\n",
       "</div>"
      ],
      "text/plain": [
       "                                                                                                                                                                                                                                                                                                                                                                                                                                                                                                                                                                                                                                                                                                                                                                                                                                                                                                                                                                                                                                                                                                                                                                                                                                                                                                                                                                                                                                                                                                                                                                                                                                                                                                                                                                                                                                                                                                                                                                                                                                                                                                                                                                                                                                                                                                                                                                                                                                                                                                                                                                                                                                                                                                                                                                                                                                                                                                                                                                                                                                                                                                                                                                                                                                                                                                                                                                                                                                                                                                                                                                                                                                                                                                                                                                                                                                                                                                                                                                                                                                                                                                                                                                                                                                                                                                                                                                                                                                                                                                                                                                                                                                                                                                                                                                                                                                                                                                                                                                                                                                                                                                                                                                                                                                                                                                                                                                                                                                                                                                                                                                                                                                                                                                                                                                                                                                                                                                                                                                                                                                                                                                                                                                                                                                                                                                                                                                                                                                                                         paragraphs  \\\n",
       "0  [[[Jakarta, ,, CNN, Indonesia, -, -, Dokter, Ryan, Thamrin, ,, yang, terkenal, lewat, acara, Dokter, Oz, Indonesia, ,, meninggal, dunia, pada, Jumat, (, 4, /, 8, ), dini, hari, .], [Dokter, Lula, Kamal, yang, merupakan, selebriti, sekaligus, rekan, kerja, Ryan, menyebut, kawannya, itu, sudah, sakit, sejak, setahun, yang, lalu, .]], [[Lula, menuturkan, ,, sakit, itu, membuat, Ryan, mesti, vakum, dari, semua, kegiatannya, ,, termasuk, menjadi, pembawa, acara, Dokter, Oz, Indonesia, .], [Kondisi, itu, membuat, Ryan, harus, kembali, ke, kampung, halamannya, di, Pekanbaru, ,, Riau, untuk, menjalani, istirahat, .]], [[\", Setahu, saya, dia, orangnya, sehat, ,, tapi, tahun, lalu, saya, dengar, dia, sakit, .], [(, Karena, ), sakitnya, ,, ia, langsung, pulang, ke, Pekanbaru, ,, jadi, kami, yang, mau, jenguk, juga, susah, .], [Barangkali, mau, istirahat, ,, ya, betul, juga, ,, kalau, di, Jakarta, susah, isirahatnya, ,, \", kata, Lula, kepada, CNNIndonesia.com, ,, Jumat, (, 4, /, 8, ), .]], [[Lula, yang, mengenal, Ryan, sejak, sebelum, aktif, berkarier, di, televisi, mengaku, belum, sempat, membesuk, Ryan, lantaran, lokasi, yang, jauh, .], [Dia, juga, tak, tahu, penyakit, apa, yang, diderita, Ryan, .]], [[\", Itu, saya, enggak, tahu, ,, belum, sempat, jenguk, dan, enggak, selamanya, bisa, dijenguk, juga, .], [Enggak, tahu, berat, sekali, apa, bagaimana, ,, \", tutur, Ryan, .]], [[Walau, sudah, setahun, menderita, sakit, ,, Lula, tak, mengetahui, apa, penyebab, pasti, kematian, Dr, Oz, Indonesia, itu, .], [Meski, demikian, ,, ia, mendengar, beberapa, kabar, yang, menyebut, bahwa, penyebab, Ryan, meninggal, adalah, karena, jatuh, di, kamar, mandi, .]], [[“, Saya, tidak, tahu, ,, barangkali, penyakit, yang, dulu, sama, yang, sekarang, berbeda, ,, atau, penyebab, kematiannya, beda, dari, penyakit, sebelumnya, .], [Kita, kan, enggak, bisa, mengambil, kesimpulan, ,, \", kata, Lula, .]], [[Ryan, Thamrin, terkenal, sebagai, dokter, yang, rutin, membagikan, tips, dan, informasi, kesehatan, lewat, tayangan, Dokter, Oz, Indonesia, .]], [[Ryan, menempuh, Pendidikan, Dokter, pada, tahun, 2002, di, Fakultas, Kedokteran, Universitas, Gadjah, Mada, .], [Dia, kemudian, melanjutkan, pendidikan, Klinis, Kesehatan, Reproduksi, dan, Penyakit, Menular, Seksual, di, Mahachulalongkornrajavidyalaya, University, ,, Bangkok, ,, Thailand, pada, 2004, .]]]                                                                                                                                                                                                                                                                                                                                                                                                                                                                                                                                                                                                                                                                                                                                                                                                                                                                                                                                                                                                                                                                                                                                                                                                                                                                                                                                                                                                                                                                                                                                                                                                                                                                                                                                                                                                                                                                                                                                                                                                                                                                                                                                                                                                                                                                                                                                                                                                                                                                                                                                                                                                                                                                                                                                                                                                                                                                                                                                                                                                                                                                                                                                                                                                                                                                                                                                                                                                                                                                                                                                                                                                                                                                                                                                                                                                                                                                                                                                                                                                                                  \n",
       "1  [[[Selfie, ialah, salah, satu, tema, terpanas, di, kalangan, produsen, smartphone, ,, bahkan, menjadi, senjata, andalan, beberapa, brand, terkenal, .], [Anda, mungkin, berpikir, bahwa, saat, ini, ,, pasar, handset, spesialis, selfie, sudah, sangat, sesak, .], [Tapi, Asus, masih, melihat, adanya, peluang, besar, menanti, di, sana, .], [Dari, data, mereka, ,, sebanyak, 71, persen, orang, Indonesia, setidaknya, mengambil, selfie, atau, wefie, setiap, minggu, .]], [[Setelah, mulai, menyelami, ranah, swafoto, dua, tahun, silam, lewat, ZanFone, Selfie, ,, sang, produsen, hardware, asal, Taiwan, itu, akhirnya, membawa, sepasang, pewarisnya, ke, tanah, air, .], [Handset, -, handset, ini, merupakan, anggota, keluarga, ZenFone, generasi, keempat, dan, keduanya, sama-sama, dibekali, setup, kamera, ganda, di, depan, .], [Mereka, adalah, Asus, ZenFone, 4, Selfie, Pro, ZD552KL, dan, ZenFone, 4, Selfie, ZD553KL, .]], [[CEO, Asus, Jerry, Shen, menjelaskan, bahwa, sudah, waktunya, bagi, Asus, untuk, memberikan, penawaran, baru, buat, penggemar, self, -, portrait, demi, menunjukkan, keseriusan, mereka, di, segmen, itu, .], [Walaupun,  , telah, tersedia, banyak, pilihan, ,,  , Asus, berpendapat, bahwa, konsumen, di, Indonesia, membutuhkan, solusi, yang, ‘, lebih, profesional’, .], [Dua, ZenFone, Selfie, anyar, ini, kabarnya, diracik, sedemikian, rupa, sebagai, jawaban, atas, kekurangan, yang, ada, di, perangkat, -, perangkat, kompetitor, ,, khususnya, pada, aspek, jangkauan, lensa, dan, performa, di, kondisi, low-light, .]], [[ZenFone, 4, Selfie, Pro,  , merupakan, produk, swafoto, pamungkas, Asus, .], [Tubuh, berbahan, aluminiumnya, dibuat, melalui, teknik, nano, molding, dan, tiap, lekukannya, dibentuk, secara, presisi, .], [Dipadu, layar, berlapis, Corning, Gorilla, Glass, 5, 2.5D, ,, saya, akui, penampilan, handset, ini, sangat, menawan, ,, terutama,  , untuk, varian, berwarna, merahnya, .], [Sebagai, jendela, akses, konten, ,, smartphone,   , menghidangkan, layar, AMOLED, 1080p, berkepadatan, 401, ppi, seluas, 5,5, -, inci, .]], [[Atraksi, utama, dari, ZenFone, 4, Selfie, Pro, tentu, saja, adalah, kamera, depannya, .], [Di, sana, ,, Asus, mencantumkan, sistem, DuoPixel, 24Mp, ,, berisi, kombinasi, sepasang, sensor, Sony, Exmor, RS, IMX362, 1,4, µm, 12, -, megapixel, dengan, aperture, f/1.8, ,, ditambah, sensor, Omnivision, 5670, 1,12, µm, f/2.2, yang, memiliki, lensa, wide-angle, 120, derajat, ,, sehingga, kamera, bisa, merangkul, objek, dua, kali, lebih, banyak, –, memungkinkan, Anda, ber-selfie, bersama, kawan, ataupun, keluarga, tanpa, bantuan, monopod, .]], [[Selain, itu, ,, Asus, melengkapi, ZenFone, 4, Selfie, Pro, dengan, bundel, perkakas, khusus, swafoto, bernama, SelfieMaster, .], [Tool, ini, berisi, fitur-fitur, krusial, semisal, beautify, (, buat, foto, maupun, video, ), ,, serta, kolase, dan, BeautyLive, .], [Produsen, juga, tak, lupa, menyiapkan, flash, LED, softlight,  , untuk, membantu, pengambilan, foto, di, kondisi, temaram, .]], [[Kamera, belakangnya, sendiri, mengandalkan, sensor, Sony, Exmor, IMX351, 1, µm, 16, -, megapixel, berlensa, 26, mm, f/2.2, .], [Ia, dibantu, sistem, electronic, image, stabilization, ,, phase, detection, autofocus, ,, serta, LED, dual, -, tone, flash, .]], [[Di, dalam, ,, Asus, mempersenjatai, ZD552KL, dengan, chip, Qualcomm, Snapdragon, 625, (, ada, prosesor, octa-core, Cortex, -, A53, 2, GHz, dan, GPU, Adreno, 506, ), ,, RAM, sebesar, 4, GB, ,, ROM, 64, GB, ,, dan, baterai, 3.000, mAh, .], [Smartphone, berjalan, di, sistem, operasi, Android, 7.1.1, Nougat, plus, interface, ZenUI, 4.0, .]], [[ZD553KL, ialah, alternatif, lebih, terjangkau, dari, saudarinya, di, atas, .], [Handset, mengusung, arahan, desain, serupa, ZenFone, 4, Selfie, Pro, ,, namun, konstruksi, tubuhnya, terbuat, dari, plastik, ,, dan, layar, IPS, 5,5, -, incinya, menyajikan, resolusi, 720p, .], [Tapi, jangan, cemas, soal, penampilannya, ,, smartphone, tetap, memanfaatkan, kaca, 2.5D, sehingga, memberi, kesan, menyambung, pada, lekukan, di, sisi, samping, .]], [[Kapabilitas, swafoto, ZenFone, 4, Selfie, bersandar, pada, sensor, Omnivision, 20880, 1, µm, 20, -, megapixel, f/2.0, dan, sensor, Omnivision, 8856, 1,12, µm, f/2.4, dengan, lensa, wide-angle, 120, derajat, .], [Sudut, jangkauan, jepretan, dan, sejumlah, kelengkapannya, tak, berbeda, dari, Selfie, 4, Pro, .], [Anda, kembali, dihindangkan, SelfieMaster, ,, flash, LED, softlight, ,, mode, panorama, ,, serta, HDR, .]], [[Ukuran, megapixel, kamera, belakangnya, setara, ZenFone, 4, Selfie, Pro, ,, namun, jenis, sensornya, berbeda, .], [Smartphone, tersebut, menggunakan, Omnivision, 16880, 1, µm, 16Mp, dengan, aperture, lensa, f/2.2, .], [Meski, demikian, ,, fitur-fitur, penunjang, fotografi, seperti, PDAF, ,, EIS, ,, dan, flash, LED, juga, tetap, ada, di, sana, .]], [[ZenFone, 4, Selfie, diotaki, system-on-chip, Qualcomm, Snapdragon, 430, ,, berisi, CPU, octa-core, Cortex, -, A53, 1,4, GHz, dan, GPU, Adreno, 505, .], [Handset, menyimpan, RAM, 4, GB, ,, memori, internal, 64, GB, ,, lalu, tenaganya, dipasok, oleh, baterai, 3.000, mAh, non, -, removable, di, dalam, .], [Satu, keunikan, yang, membuat, ZD553KL, lebih, ‘, unggul’, dari, ZenFone, 4, Selfie, Pro, adalah, dukungan, tiga, slot, kartu, :, dua, untuk, SIM, ,, dan, satu, lagi, buat, microSD, (, storage, dapat, diekspansi,  , sampai,  , 2, TB, ), .], [Smartphone, juga, beroperasi, di, platform, Android, 7.1.1, Nougat, dengan, ZenUI, 4.0, .]], [[ZenFone, 4, Selfie, Pro, ZD552KL, dibanderol, seharga, Rp, 5, juta, ,, sedangkan, ZenFone, 4, Selfie, ZD553KL, dipatok, di, harga, Rp, 3,5, juta, .], [Kedua, perangkat, sudah, mulai, dipasarkan, mulai, tanggal, 25, November, ,, dan, sampai,  , tanggal, 10, November, nanti, ,, paket, penjualan, turut, dibundel, bersama, ‘, Gong, Yoo, Special, Gift, Box’, serta, speaker, Bluetooth, khusus, ZenFone, 4, Selfie, Pro, –, selama, persediaan, masih, ada, .]], [[DailySocial.id, adalah, portal, berita, startup, dan, inovasi, teknologi, .], [Kamu, bisa, menjadi, member, komunitas, startup, dan, inovasi, DailySocial.id, ,, mengunduh, laporan, riset, dan, statistik, seputar, teknologi, secara, cuma-cuma, ,, dan, mengikuti, berita, startup, Indonesia, dan, gadget, terbaru, .]]]   \n",
       "2  [[[Jakarta, ,, CNN, Indonesia, -, -, Dinas, Pariwisata, Provinsi, Bengkulu, kembali, menggelar, kegiatan, Bimbingan, Teknis, (, Bimtek, ), SDM, Kepariwisataan, dalam, menyongson, \", Visit, 2020, Wonderful, Bengkulu, \", .]], [[Kegiatan, yang, berlangsung, pada, 8, hingga, 10, November, kemarin, tersebut, sebagai, bagian, dari, upaya, Pemerintah, Provinsi, Bengkulu, dalam]], [[Hadir, sebagai, pemateri, kegiatan, pada, 8, -, 10, November, itu, adalah, Plt.], [Asdep, Strategi, Pemasaran, Pariwisata, Nusantara, ,, Deputi, Bidang, Pengembangan, Pemasaran, Pariwisata, Nusantara, Hariyanto, serta, perwakilan, dari, Deputi, Bidang, Pengembangan, Kelembagaan, Kementerian, Pariwisata, ,, Faizal, .]], [[Kepala, Dinas, Pariwisata, Provinsi, Bengkulu, Yudi, Satria, mengatakan, ,, kegiatan, Bimtek, diikuti, 250, peserta, yang, terdiri, dari, aparatur, Pemerintah, Provinsi, ,, ASN, Kabupaten, /, Kota, ,, Kelompok, Sadar, Wisata, serta, pihak, terkait, sektor, pariwisata, di, Bengkulu, .]], [[\", Kegiatan, ini, dimaksudkan, untuk, memberikan, pembekalan, kepada, peserta, di, bidang, kepariwisataan, ,, \", ujar, Yudi, Satria, .]], [[Ia, mengatakan, ,, Pemprov, telah, menetapkan, pariwisata, sebagai, salah, satu, sektor, yang, akan, dikembangkan, dan, akan, menjadi, sektor, unggulan, dalam, meningkatkan, pertumbuhan, ekonomi, daerah, serta, masyarakat, .]], [[Hal, itu, ,, jelas, Yudi, ,, tidak, lepas, dari, potensi, pariwisata, di, Bengkulu, yang, besar, memiliki, kekayaan, alam, yang, indah, serta, budaya, yang, tinggi, .]], [[\", Karena, itu, pula, Pemprov, telah, menetapkan, program, ', Visit, 2020, Wonderful, Bengkulu, \", yang, akan, menjadi, tujuan, besar, pariwisata, Bengkulu, .], [Salah, satu, poin, utamanya, adalah, upaya, menghasilkan, SDM, pariwisata, yang, andal, yang, akan, diwujudkan, melalui, Bimtek, ini, ,, \", ujar, Yudi, .]], [[Selain, itu, ,, dalam, menunjang, proses, ', Visit, 2020, Wonderful, Bengkulu, ', ,, Pemprov, juga, telah, menyiapkan, 52, acara, yang, akan, digelar, dalam, satu, tahun, ke, depan, yang, bertujuan, mengangkat, potensi, lokal, ke, kelas, dunia, .]], [[\", Salah, satu, yang, dirancang, secara, besar, adalah, Sail, Bengkulu, yang, akan, menjual, keindahan, alam, laut, Bengkulu, yang, berhadapan, langsung, dengan, Samudera, Hindia, ,, \", kata, dia, .]], [[Ajang, lainnya, tentunya, Festival, Tabot, Muharam, yang, selalu, menyedot, minat, ribuan, wisatawan, setiap, tahun, serta, Festival, Bumi, Rafflesia, .]], [[\", Semua, kegiatan, ini, harus, disinkronkan, ,, penguatan, SDM, dan, bagaimana, promosi, pemasarannya, agar, semua, acara, ini, layak, jual, untuk, wisatawan, ,, \", ujarnya, .]], [[Sementara, Hariyanto, dalam, kesempatan, itu, menyampaikan, materi, tentang, pengembangan, SDM, sektor, pariwisata, dan, pengemasan, serta, pemasaran, satu, acara, .]], [[Dalam, paparanya, ia, menjelaskan, ,, bahwa, Bimtek, penting, untuk, meningkatkan, kompetensi, SDM, kepariwisataan, sehingga, mampu, berperan, dalam, peningkatan, pembangunan, kepariwisataan, .]], [[Selain, itu, ia, menegaskan, bahwa, dalam, pengembangan, pariwisata, ,, promosi, juga, hal, yang, harus, diperhatikan, .]], [[Misalnya, penekanan, pada, mekanisme, promosi, pariwisata, secara, digital, atau, daring, ,, penyelenggaraan, acara, juga, harus, terkurasi, dengan, baik, sehingga, memiliki, daya, tarik, yang, kuat, .]], [[\", Bagaimana, juga, meningkatkan, efektivitas, partisipasi, Dinas, Pariwisata, pada, penyelenggaraan, acara, dan, bagaimana, cara, memasarkan, dan, mempromosikan, agar, bisa, dikenal, dan, menjadi, daya, tarik, wisatawan, ,, ”, terang, Hariyanto, .]], [[Deputi, Pengembangan, Pemasaran, Pariwisata, Nusantara, ,, Esthy, Reko, Astuti, mengatakan, ,, Bimtek, kali, ini, juga, bertujuan, memberi, perspektif, dan, arah, yang, sama, tentang, program, promosi, Pariwisata, di, Bengkulu, .]], [[\", Selain, itu, juga, untuk, memahami, potensi, destinasi, -, destinasi, wisata, di, Bengkulu, ,, \", ujar, Esthy, .]], [[Menteri, Pariwisata, Arief, Yahya, mengapresiasi, kegiatan, Bimtek, sebagai, salah, satu, upaya, dan, komitmen, dari, Pemerintah, Provinsi, Bengkulu, dalam, mewujudkan, pariwisata, sebagai, salah, satu, sektor, utama, .], [Ia, pun, berkomitmen, akan, mendung, Penprov, dalam, mewujudkan, \", Visit, 2020, Wonderful, Bengkulu, \", .]], [[\", Obyek, wisata, andalan, Bengkulu, ,, Benteng, Marlborough, ,, Rumah, Bung, Karno, ,, Pantai, Panjang, yang, memiliki, pasir, putih, yang, indah, dan, bersih, .], [Semuanya, world, class, ,, ditambah, dengan, puluhan, atraksi, didalamnya, ,, tinggal, kita, akan, dukung, dan, promosikan, ', Bengkulu, Visit, ', sehingga, lebih, mendunia, ,, \", kata, Arief, (, syahb, )]]]                                                                                                                                                                                                                                                                                                                                                                                                                                                                                                                                                                                                                                                                                                                                                                                                                                                                                                                                                                                                                                                                                                                                                                                                                                                                                                                                                                                                                                                                                                                                                                                                                    \n",
       "3  [[[Merdeka.com, -, Indonesia, Corruption, Watch, (, ICW, ), meminta, Komisi, Pemberantas,  , Korupsi, (, KPK, ), ikut, memantau, perkembangan, atas, meninggalnya, saksi, kunci, kasus, mega, korupsi, e, -, KTP, ,, Johannes, Marliem, .], [Peneliti, ICW, Divisi, Hukum, dan, Monitoring, Peradila, ,, Aradila, Caesar, mengatakan, momentum, meninggalnya, saksi, kunci, tersebut, menimbulkan, kejanggalan, dan, tanda, tanya, besar, .]], [[\", Orang, meninggal, kita, kan, tidak, bisa, prediksi, itu, bukan, kuasa, kita, .], [Tapi, kalau, kita, melihat, momentum, kan, ada, suatu, kejanggalan, .], [Kenapa, momentum, meninggalnya, ,, saat, kasus, e, -, ktp, sedang, ditangani, oleh, KPK, ,, \", katanya, seusai, konferensi, pers, di, Kantor, Sekeretariatan, ICW, ,,  , Jakarta, ,, Minggu(13, /, 8, ), .]], [[Pihak, ICW, meminta, KPK, turut, menyelidiki, kematian, saksi, kunci, ini, dan, menjelaskan, kepada, masyarakat, apakah, ada, keterkaitan, dengan, permasalahan, korupsi, e, -, KTP, atau, hal-hal, lain, dibalik, kematian, Johannes, .]], [[\", Kita, minta, KPK, dan, juga, bekerja, sama, dengan, pihak, otoritas, untuk, menyelidiki, kematian, dari, saksi, kunci, tersebut, dengan, serius, .], [Artinya, nanti, KPK, harus, bisa, menjelaskan, kepada, publik, kenapa, kematiannya, ,, \", pintanya, .]], [[ICW, berharap, dengan, kematian, saksi, kunci, ,, tidak, membuat, efek, negatif, untuk, permasalahan, kasus, e, -, KTP, ini, .], [\", Jangan, sampai, kematiannya, berdampak, negatif, dalam, konteks, membongkar, kasus, e, -, ktp, tersebut, ,, \", pungkasnya, .], [[, ded, ]]]]                                                                                                                                                                                                                                                                                                                                                                                                                                                                                                                                                                                                                                                                                                                                                                                                                                                                                                                                                                                                                                                                                                                                                                                                                                                                                                                                                                                                                                                                                                                                                                                                                                                                                                                                                                                                                                                                                                                                                                                                                                                                                                                                                                                                                                                                                                                                                                                                                                                                                                                                                                                                                                                                                                                                                                                                                                                                                                                                                                                                                                                                                                                                                                                                                                                                                                                                                                                                                                                                                                                                                                                                                                                                                                                                                                                                                                                                                                                                                                                                                                                                                                                                                                                                                                                                                                                                                                                                                                                                                                                                                                                                                                                                                                                                                                                                                                                 \n",
       "4  [[[Merdeka.com, -, Presiden, Joko, Widodo, (, Jokowi, ), memimpin, upacara, penurunan, bendera, di, Halaman, Istana, Merdeka, ,,  , Jakarta, .], [Usai, prosesi, penurunan, bendera, dilakukan, ,, Jokowi, kembali, bagi-bagi, sepeda, kepada, tamu, undangan, yang, mengenakan, pakaian, adat, terbaik, .]], [[Berbeda, dengan, saat, upacara, pengibaran, bendera, ,, bagi-bagi, sepeda, kali, ini, diumumkan, oleh, Wakil, Presiden, Jusuf, Kalla, (, JK, ), .], [Hal, berbeda, juga, terjadi, bagi, mereka, yang, menerima, .], [Apabila, sepeda, diberikan, ke, pejabat, negara, mau, pun, keluarga, ,, kali, ini, sepeda, diberikan, kepada, masyarakat, biasa, .]], [[\", Seperti, tadi, pagi, ,, sore, ini, juga, panitia, membentuk, tim, penilai, untuk, menilai, siapa, yang, berbusana, tradisional, adat, -, adat, daerah, yang, paling, baik, sore, ini, ,, \", kata, JK, .]], [[Kelima, penerima, sepeda, di, antaranya, ,, Frans, Maksim, yang, merupakan, Kepala, Suku, Arfak, ,, Papua, ,, Ratna, Dewi, Budiono, yang, mengenakan, pakaian, adat, Dayak, ,, Yusak, Rumambi, yang, mengenakan, pakaian, adat, Sulawesi, Utara, ,, Teuku, Johan, Marzuki, yang, mengenakan, pakaian, adat, Aceh, .], [Terakhir, ,, ada, Sumahartarti, yang, mengenakan, pakaian, adat, asal, Bengkulu, .]], [[\", Silakan, semua, datang, ke, panggung, .], [Mendapat, sepeda, dari, Bapak, Presiden, bisa, langsung, dipakai, keliling, -, keliling, nanti, ,, \", ujarnya, .]], [[Pada, Upacara, Pengibaran, Bendera, ,, lima, orang, menggunakan, pakaian, adat, terbaik, ,, yakni, Menteri, Hukum, dan, Hak, Asasi, Manusia, (, Menkum, HAM, ), Yasonna, Hamonangan, Laoly, dengan, pakaian, adat, Nias, ,, Ketua, DPD, RI, Oesman, Sapta, Odang, yang, menggunakan, pakaian, adat, Minang, ,, dan, Asisten, Ajudan, Presiden, Syarif, Muhammad, Fidriansyah, dengan, pakaian, adat, Dayak, ,, Kalimantan, Barat, .]], [[Dua, orang, lainnya, adalah, istri, Kapolri, Jenderal, Pol, Tito, Karnavian, ,, Tri, Suswati, yang, mengenakan, pakaian, adat, Papua, ,, dan, istri, Wakil, Ketua, MPR, Mahyudin, ,, Agati, Suli, menggunakan, baju, adat, Dayak, .], [[, bal, ]]]]                                                                                                                                                                                                                                                                                                                                                                                                                                                                                                                                                                                                                                                                                                                                                                                                                                                                                                                                                                                                                                                                                                                                                                                                                                                                                                                                                                                                                                                                                                                                                                                                                                                                                                                                                                                                                                                                                                                                                                                                                                                                                                                                                                                                                                                                                                                                                                                                                                                                                                                                                                                                                                                                                                                                                                                                                                                                                                                                                                                                                                                                                                                                                                                                                                                                                                                                                                                                                                                                                                                                                                                                                                                                                                                                                                                                                                                                                                                                                                                                                                                                                                                                                                                                                                                                                                       \n",
       "\n",
       "                                                                                                                                                                                                                                                                                                                                                                                                                                                                                                                                                                                          summary  \n",
       "0  [[Dokter, Lula, Kamal, yang, merupakan, selebriti, sekaligus, rekan, kerja, Ryan, Thamrin, menyebut, kawannya, itu, sudah, sakit, sejak, setahun, yang, lalu, .], [Lula, menuturkan, ,, sakit, itu, membuat, Ryan, mesti, vakum, dari, semua, kegiatannya, ,, termasuk, menjadi, pembawa, acara, Dokter, Oz, Indonesia, .], [Kondisi, itu, membuat, Ryan, harus, kembali, ke, kampung, halamannya, di, Pekanbaru, ,, Riau, untuk, menjalani, istirahat, .]]                                                                                                                                     \n",
       "1  [[Asus, memperkenalkan,  , ZenFone, generasi, keempat, dan, keduanya, sama-sama, dibekali, setup, kamera, ganda, di, depan, .], [Mereka, adalah, Asus, ZenFone, 4, Selfie, Pro, ZD552KL, dan, ZenFone, 4, Selfie, ZD553KL, .], [Dua, ZenFone, Selfie, anyar, ini, kabarnya, diracik, sedemikian, rupa, sebagai, jawaban, atas, kekurangan, yang, ada, di, perangkat, -, perangkat, kompetitor, ,, khususnya, pada, aspek, jangkauan, lensa, dan, performa, di, kondisi, low-light, .]]                                                                                                          \n",
       "2  [[Dinas, Pariwisata, Provinsi, Bengkulu, kembali, menggelar, kegiatan, Bimbingan, Teknis, (, Bimtek, ), SDM, Kepariwisataan, dalam, menyongson, \", Visit, 2020, Wonderful, Bengkulu, \", pada, 8, -, 10, November, 2017, yang, lalu, .], [Kegiatan, yang, berlangsung, pada, 8, hingga, 10, November, kemarin, tersebut, sebagai, bagian, dari, upaya, Pemerintah, Provinsi, Bengkulu, dalam, memperkuat, SDM, Pariwisata, untuk, menyongsong, \", Visit, 2020, Wonderful, Bengkulu, \", .]]                                                                                                       \n",
       "3  [[Indonesia, Corruption, Watch, (, ICW, ), meminta, Komisi, Pemberantas, Korupsi,  , (, KPK, ), ikut, memantau, perkembangan, atas, meninggalnya, saksi, kunci, kasus, mega,  , korupsi,  , e, -, KTP, ,, Johannes, Marliem, dan, menjelaskan, kepada, masyarakat, apakah, ada, keterkaitan, dengan, permasalahan, korupsi, e, -, KTP, atau, hal-hal, lain, dibalik, kematian, Johannes, .], [Peneliti, ICW, Divisi, Hukum, dan, Monitoring, Peradila, ,, Aradila, Caesar, mengatakan, momentum, meninggalnya, saksi, kunci, tersebut, menimbulkan, kejanggalan, dan, tanda, tanya, besar, .]]  \n",
       "4  [[Jokowi, memimpin, upacara, penurunan, bendera, .], [Usai, prosesi, tersebut, ,, Jokowi, bagi-bagi, sepeda, kepada, tamu, undangan, yang, mengenakan, pakaian, adat, terbaik, .], [Berbeda, dengan, saat, upacara, pengibaran, bendera, ,, bagi-bagi, sepeda, kali, ini, diumumkan, oleh, Wakil, Presiden, Jusuf, Kalla, (, JK, ), .], [Hal, berbeda, juga, terjadi, bagi, mereka, yang, menerima, .], [Apabila, sepeda, diberikan, ke, pejabat, negara, mau, pun, keluarga, ,, kali, ini, sepeda, diberikan, kepada, masyarakat, biasa, .]]                                                   "
      ]
     },
     "execution_count": 15,
     "metadata": {},
     "output_type": "execute_result"
    }
   ],
   "source": [
    "df[['paragraphs', 'summary']].head(5)"
   ]
  },
  {
   "cell_type": "code",
   "execution_count": 16,
   "metadata": {},
   "outputs": [],
   "source": [
    "article = df.paragraphs[4]\n",
    "ref_sum = df.summary[4]"
   ]
  },
  {
   "cell_type": "code",
   "execution_count": 19,
   "metadata": {},
   "outputs": [
    {
     "name": "stdout",
     "output_type": "stream",
     "text": [
      "Jokowi memimpin upacara penurunan bendera.\n"
     ]
    }
   ],
   "source": [
    "from nltk.tokenize.treebank import TreebankWordDetokenizer\n",
    "print(TreebankWordDetokenizer().detokenize(ref_sum[0]))"
   ]
  },
  {
   "cell_type": "code",
   "execution_count": 17,
   "metadata": {},
   "outputs": [
    {
     "data": {
      "text/plain": [
       "'Merdeka.com - Presiden Joko Widodo (Jokowi) memimpin upacara penurunan bendera di Halaman Istana Merdeka,   Jakarta.'"
      ]
     },
     "execution_count": 17,
     "metadata": {},
     "output_type": "execute_result"
    }
   ],
   "source": [
    "import re\n",
    "def untokenize(words):\n",
    "    \"\"\"\n",
    "    Untokenizing a text undoes the tokenizing operation, restoring\n",
    "    punctuation and spaces to the places that people expect them to be.\n",
    "    Ideally, `untokenize(tokenize(text))` should be identical to `text`,\n",
    "    except for line breaks.\n",
    "    \"\"\"\n",
    "    text = ' '.join(words)\n",
    "    step1 = text.replace(\"`` \", '\"').replace(\" ''\", '\"').replace('. . .',  '...')\n",
    "    step2 = step1.replace(\" ( \", \" (\").replace(\" ) \", \") \")\n",
    "    step3 = re.sub(r' ([.,:;?!%]+)([ \\'\"`])', r\"\\1\\2\", step2)\n",
    "    step4 = re.sub(r' ([.,:;?!%]+)$', r\"\\1\", step3)\n",
    "    step5 = step4.replace(\" '\", \"'\").replace(\" n't\", \"n't\").replace(\n",
    "         \"can not\", \"cannot\")\n",
    "    step6 = step5.replace(\" ` \", \" '\")\n",
    "    return step6.strip()\n",
    "\n",
    "untokenize(article[0][0])"
   ]
  },
  {
   "cell_type": "code",
   "execution_count": 20,
   "metadata": {},
   "outputs": [],
   "source": [
    "sentences_list = []\n",
    "for paragraph in article:\n",
    "    for sentence in paragraph:\n",
    "        sentences_list.append(TreebankWordDetokenizer().detokenize(sentence))\n",
    "    #sentence_list.append(TreebankWordDetokenizer().detokenize(sentence)\n",
    "\n",
    "ref_sentences_list =[]\n",
    "for sentence in ref_sum:\n",
    "    ref_sentences_list.append(TreebankWordDetokenizer().detokenize(sentence))"
   ]
  },
  {
   "cell_type": "code",
   "execution_count": 62,
   "metadata": {},
   "outputs": [],
   "source": [
    "data = \"Mie instan adalah makanan yang rasannya sangat enak. Tak heran bila makanan in banyak dicintai oleh masyarakat. Namun ternyata sering mengkonsumsi mie instan membawa dampak buruk bagi tubuh. Terlalu banyak makan mie instan dapat meningkatkan risiko penyakit kanker, gangguan usus, ginjal hingga obesitas. Karena dampak buruk yang ditimbulkan, maka sebaiknya konsumsi mie instan dihindari. Sebisa mungkin ganti mie instan dengan makanan lain. Kalaupun ingin makan mie instan, sebaiknya beri tenggang waktu antara 2 – 3 hari. Jika sudah terbiasa dengan tenggang waktu tersebut, maka bisa diperpanjang menjadi 5 – 6 hari dan seterusnya. Hal ini dapat membantu siapapun mengurangi konsumsi mie instan dengan lebih baik.\"\n",
    "sentences_list = nltk.sent_tokenize(data)"
   ]
  },
  {
   "cell_type": "code",
   "execution_count": 63,
   "metadata": {},
   "outputs": [
    {
     "name": "stdout",
     "output_type": "stream",
     "text": [
      "Mie instan adalah makanan yang rasannya sangat enak.\n",
      "Tak heran bila makanan in banyak dicintai oleh masyarakat.\n",
      "Namun ternyata sering mengkonsumsi mie instan membawa dampak buruk bagi tubuh.\n",
      "Terlalu banyak makan mie instan dapat meningkatkan risiko penyakit kanker, gangguan usus, ginjal hingga obesitas.\n",
      "Karena dampak buruk yang ditimbulkan, maka sebaiknya konsumsi mie instan dihindari.\n",
      "Sebisa mungkin ganti mie instan dengan makanan lain.\n",
      "Kalaupun ingin makan mie instan, sebaiknya beri tenggang waktu antara 2 – 3 hari.\n",
      "Jika sudah terbiasa dengan tenggang waktu tersebut, maka bisa diperpanjang menjadi 5 – 6 hari dan seterusnya.\n",
      "Hal ini dapat membantu siapapun mengurangi konsumsi mie instan dengan lebih baik.\n",
      "\n",
      "\n",
      "\n",
      "\n",
      "Jokowi memimpin upacara penurunan bendera.\n",
      "Usai prosesi tersebut, Jokowi bagi-bagi sepeda kepada tamu undangan yang mengenakan pakaian adat terbaik.\n",
      "Berbeda dengan saat upacara pengibaran bendera, bagi-bagi sepeda kali ini diumumkan oleh Wakil Presiden Jusuf Kalla (JK).\n",
      "Hal berbeda juga terjadi bagi mereka yang menerima.\n",
      "Apabila sepeda diberikan ke pejabat negara mau pun keluarga, kali ini sepeda diberikan kepada masyarakat biasa.\n"
     ]
    }
   ],
   "source": [
    "for i in sentences_list:\n",
    "    print(i)\n",
    "print('\\n\\n\\n')\n",
    "for i in ref_sentences_list:\n",
    "    print(i)"
   ]
  },
  {
   "cell_type": "code",
   "execution_count": 64,
   "metadata": {},
   "outputs": [
    {
     "data": {
      "text/plain": [
       "9"
      ]
     },
     "execution_count": 64,
     "metadata": {},
     "output_type": "execute_result"
    }
   ],
   "source": [
    "len(sentences_list)"
   ]
  },
  {
   "cell_type": "code",
   "execution_count": 65,
   "metadata": {},
   "outputs": [
    {
     "name": "stdout",
     "output_type": "stream",
     "text": [
      "(71, 9)\n"
     ]
    },
    {
     "data": {
      "text/html": [
       "<div>\n",
       "<style scoped>\n",
       "    .dataframe tbody tr th:only-of-type {\n",
       "        vertical-align: middle;\n",
       "    }\n",
       "\n",
       "    .dataframe tbody tr th {\n",
       "        vertical-align: top;\n",
       "    }\n",
       "\n",
       "    .dataframe thead th {\n",
       "        text-align: right;\n",
       "    }\n",
       "</style>\n",
       "<table border=\"1\" class=\"dataframe\">\n",
       "  <thead>\n",
       "    <tr style=\"text-align: right;\">\n",
       "      <th></th>\n",
       "      <th>0</th>\n",
       "      <th>1</th>\n",
       "      <th>2</th>\n",
       "      <th>3</th>\n",
       "      <th>4</th>\n",
       "      <th>5</th>\n",
       "      <th>6</th>\n",
       "      <th>7</th>\n",
       "      <th>8</th>\n",
       "    </tr>\n",
       "  </thead>\n",
       "  <tbody>\n",
       "    <tr>\n",
       "      <th>adalah</th>\n",
       "      <td>0.42</td>\n",
       "      <td>0.00</td>\n",
       "      <td>0.00</td>\n",
       "      <td>0.00</td>\n",
       "      <td>0.0</td>\n",
       "      <td>0.0</td>\n",
       "      <td>0.00</td>\n",
       "      <td>0.00</td>\n",
       "      <td>0.00</td>\n",
       "    </tr>\n",
       "    <tr>\n",
       "      <th>antara</th>\n",
       "      <td>0.00</td>\n",
       "      <td>0.00</td>\n",
       "      <td>0.00</td>\n",
       "      <td>0.00</td>\n",
       "      <td>0.0</td>\n",
       "      <td>0.0</td>\n",
       "      <td>0.35</td>\n",
       "      <td>0.00</td>\n",
       "      <td>0.00</td>\n",
       "    </tr>\n",
       "    <tr>\n",
       "      <th>bagi</th>\n",
       "      <td>0.00</td>\n",
       "      <td>0.00</td>\n",
       "      <td>0.34</td>\n",
       "      <td>0.00</td>\n",
       "      <td>0.0</td>\n",
       "      <td>0.0</td>\n",
       "      <td>0.00</td>\n",
       "      <td>0.00</td>\n",
       "      <td>0.00</td>\n",
       "    </tr>\n",
       "    <tr>\n",
       "      <th>baik</th>\n",
       "      <td>0.00</td>\n",
       "      <td>0.00</td>\n",
       "      <td>0.00</td>\n",
       "      <td>0.00</td>\n",
       "      <td>0.0</td>\n",
       "      <td>0.0</td>\n",
       "      <td>0.00</td>\n",
       "      <td>0.00</td>\n",
       "      <td>0.33</td>\n",
       "    </tr>\n",
       "    <tr>\n",
       "      <th>banyak</th>\n",
       "      <td>0.00</td>\n",
       "      <td>0.29</td>\n",
       "      <td>0.00</td>\n",
       "      <td>0.24</td>\n",
       "      <td>0.0</td>\n",
       "      <td>0.0</td>\n",
       "      <td>0.00</td>\n",
       "      <td>0.00</td>\n",
       "      <td>0.00</td>\n",
       "    </tr>\n",
       "    <tr>\n",
       "      <th>beri</th>\n",
       "      <td>0.00</td>\n",
       "      <td>0.00</td>\n",
       "      <td>0.00</td>\n",
       "      <td>0.00</td>\n",
       "      <td>0.0</td>\n",
       "      <td>0.0</td>\n",
       "      <td>0.35</td>\n",
       "      <td>0.00</td>\n",
       "      <td>0.00</td>\n",
       "    </tr>\n",
       "    <tr>\n",
       "      <th>bila</th>\n",
       "      <td>0.00</td>\n",
       "      <td>0.35</td>\n",
       "      <td>0.00</td>\n",
       "      <td>0.00</td>\n",
       "      <td>0.0</td>\n",
       "      <td>0.0</td>\n",
       "      <td>0.00</td>\n",
       "      <td>0.00</td>\n",
       "      <td>0.00</td>\n",
       "    </tr>\n",
       "    <tr>\n",
       "      <th>bisa</th>\n",
       "      <td>0.00</td>\n",
       "      <td>0.00</td>\n",
       "      <td>0.00</td>\n",
       "      <td>0.00</td>\n",
       "      <td>0.0</td>\n",
       "      <td>0.0</td>\n",
       "      <td>0.00</td>\n",
       "      <td>0.28</td>\n",
       "      <td>0.00</td>\n",
       "    </tr>\n",
       "    <tr>\n",
       "      <th>buruk</th>\n",
       "      <td>0.00</td>\n",
       "      <td>0.00</td>\n",
       "      <td>0.28</td>\n",
       "      <td>0.00</td>\n",
       "      <td>0.3</td>\n",
       "      <td>0.0</td>\n",
       "      <td>0.00</td>\n",
       "      <td>0.00</td>\n",
       "      <td>0.00</td>\n",
       "    </tr>\n",
       "    <tr>\n",
       "      <th>dampak</th>\n",
       "      <td>0.00</td>\n",
       "      <td>0.00</td>\n",
       "      <td>0.28</td>\n",
       "      <td>0.00</td>\n",
       "      <td>0.3</td>\n",
       "      <td>0.0</td>\n",
       "      <td>0.00</td>\n",
       "      <td>0.00</td>\n",
       "      <td>0.00</td>\n",
       "    </tr>\n",
       "  </tbody>\n",
       "</table>\n",
       "</div>"
      ],
      "text/plain": [
       "           0     1     2     3    4    5     6     7     8\n",
       "adalah  0.42  0.00  0.00  0.00  0.0  0.0  0.00  0.00  0.00\n",
       "antara  0.00  0.00  0.00  0.00  0.0  0.0  0.35  0.00  0.00\n",
       "bagi    0.00  0.00  0.34  0.00  0.0  0.0  0.00  0.00  0.00\n",
       "baik    0.00  0.00  0.00  0.00  0.0  0.0  0.00  0.00  0.33\n",
       "banyak  0.00  0.29  0.00  0.24  0.0  0.0  0.00  0.00  0.00\n",
       "beri    0.00  0.00  0.00  0.00  0.0  0.0  0.35  0.00  0.00\n",
       "bila    0.00  0.35  0.00  0.00  0.0  0.0  0.00  0.00  0.00\n",
       "bisa    0.00  0.00  0.00  0.00  0.0  0.0  0.00  0.28  0.00\n",
       "buruk   0.00  0.00  0.28  0.00  0.3  0.0  0.00  0.00  0.00\n",
       "dampak  0.00  0.00  0.28  0.00  0.3  0.0  0.00  0.00  0.00"
      ]
     },
     "execution_count": 65,
     "metadata": {},
     "output_type": "execute_result"
    }
   ],
   "source": [
    "from sklearn.feature_extraction.text import TfidfVectorizer\n",
    "\n",
    "tv = TfidfVectorizer(min_df=0., max_df=1., use_idf=True)\n",
    "dt_matrix = tv.fit_transform(sentences_list)\n",
    "dt_matrix = dt_matrix.toarray()\n",
    "\n",
    "vocab = tv.get_feature_names()\n",
    "td_matrix = dt_matrix.T\n",
    "print(td_matrix.shape)\n",
    "pd.DataFrame(np.round(td_matrix, 2), index=vocab).head(10)"
   ]
  },
  {
   "cell_type": "code",
   "execution_count": 66,
   "metadata": {},
   "outputs": [],
   "source": [
    "from sklearn.metrics.pairwise import cosine_similarity\n",
    "cosine_sim = cosine_similarity(dt_matrix, dt_matrix)"
   ]
  },
  {
   "cell_type": "code",
   "execution_count": 67,
   "metadata": {},
   "outputs": [
    {
     "data": {
      "text/plain": [
       "array([[1.        , 0.07868556, 0.06185661, 0.05193041, 0.17390833,\n",
       "        0.17463617, 0.06509359, 0.        , 0.06005704],\n",
       "       [0.07868556, 1.        , 0.        , 0.07001458, 0.        ,\n",
       "        0.07991708, 0.        , 0.        , 0.        ],\n",
       "       [0.06185661, 0.        , 1.        , 0.04160925, 0.22557247,\n",
       "        0.06282473, 0.05215625, 0.        , 0.04812071],\n",
       "       [0.05193041, 0.07001458, 0.04160925, 1.        , 0.04459214,\n",
       "        0.05274318, 0.1148703 , 0.        , 0.10598233],\n",
       "       [0.17390833, 0.        , 0.22557247, 0.04459214, 1.        ,\n",
       "        0.06732853, 0.146636  , 0.07293465, 0.1352902 ],\n",
       "       [0.17463617, 0.07991708, 0.06282473, 0.05274318, 0.06732853,\n",
       "        1.        , 0.06611237, 0.0652157 , 0.13585641],\n",
       "       [0.06509359, 0.        , 0.05215625, 0.1148703 , 0.146636  ,\n",
       "        0.06611237, 1.        , 0.21485169, 0.05063889],\n",
       "       [0.        , 0.        , 0.        , 0.        , 0.07293465,\n",
       "        0.0652157 , 0.21485169, 1.        , 0.04995208],\n",
       "       [0.06005704, 0.        , 0.04812071, 0.10598233, 0.1352902 ,\n",
       "        0.13585641, 0.05063889, 0.04995208, 1.        ]])"
      ]
     },
     "execution_count": 67,
     "metadata": {},
     "output_type": "execute_result"
    }
   ],
   "source": [
    "cosine_sim"
   ]
  },
  {
   "cell_type": "code",
   "execution_count": 68,
   "metadata": {},
   "outputs": [
    {
     "name": "stdout",
     "output_type": "stream",
     "text": [
      "(9, 9)\n"
     ]
    },
    {
     "data": {
      "text/plain": [
       "array([[1.   , 0.079, 0.062, 0.052, 0.174, 0.175, 0.065, 0.   , 0.06 ],\n",
       "       [0.079, 1.   , 0.   , 0.07 , 0.   , 0.08 , 0.   , 0.   , 0.   ],\n",
       "       [0.062, 0.   , 1.   , 0.042, 0.226, 0.063, 0.052, 0.   , 0.048],\n",
       "       [0.052, 0.07 , 0.042, 1.   , 0.045, 0.053, 0.115, 0.   , 0.106],\n",
       "       [0.174, 0.   , 0.226, 0.045, 1.   , 0.067, 0.147, 0.073, 0.135],\n",
       "       [0.175, 0.08 , 0.063, 0.053, 0.067, 1.   , 0.066, 0.065, 0.136],\n",
       "       [0.065, 0.   , 0.052, 0.115, 0.147, 0.066, 1.   , 0.215, 0.051],\n",
       "       [0.   , 0.   , 0.   , 0.   , 0.073, 0.065, 0.215, 1.   , 0.05 ],\n",
       "       [0.06 , 0.   , 0.048, 0.106, 0.135, 0.136, 0.051, 0.05 , 1.   ]])"
      ]
     },
     "execution_count": 68,
     "metadata": {},
     "output_type": "execute_result"
    }
   ],
   "source": [
    "similarity_matrix = np.matmul(dt_matrix, dt_matrix.T)\n",
    "print(similarity_matrix.shape)\n",
    "np.round(similarity_matrix, 3)"
   ]
  },
  {
   "cell_type": "code",
   "execution_count": 69,
   "metadata": {},
   "outputs": [
    {
     "name": "stdout",
     "output_type": "stream",
     "text": [
      "0 Mie instan adalah makanan yang rasannya sangat enak.\n",
      "1 Tak heran bila makanan in banyak dicintai oleh masyarakat.\n",
      "2 Namun ternyata sering mengkonsumsi mie instan membawa dampak buruk bagi tubuh.\n",
      "3 Terlalu banyak makan mie instan dapat meningkatkan risiko penyakit kanker, gangguan usus, ginjal hingga obesitas.\n",
      "4 Karena dampak buruk yang ditimbulkan, maka sebaiknya konsumsi mie instan dihindari.\n",
      "5 Sebisa mungkin ganti mie instan dengan makanan lain.\n",
      "6 Kalaupun ingin makan mie instan, sebaiknya beri tenggang waktu antara 2 – 3 hari.\n",
      "7 Jika sudah terbiasa dengan tenggang waktu tersebut, maka bisa diperpanjang menjadi 5 – 6 hari dan seterusnya.\n",
      "8 Hal ini dapat membantu siapapun mengurangi konsumsi mie instan dengan lebih baik.\n"
     ]
    },
    {
     "data": {
      "image/png": "[encoded data removed]",
      "text/plain": [
       "<Figure size 1008x576 with 2 Axes>"
      ]
     },
     "metadata": {
      "needs_background": "light"
     },
     "output_type": "display_data"
    }
   ],
   "source": [
    "#ax = sns.heatmap(cosine_sim, annot=True, center=0.3, xticklabels=sentences_list, yticklabels=sentences_list)\n",
    "for i in range(len(sentences_list)):\n",
    "    print(i, sentences_list[i])\n",
    "plt.figure(figsize=(14,8))\n",
    "ax = sns.heatmap(cosine_sim, annot=True, center=0, cmap=\"YlGnBu\")\n",
    "#plt.setp(ax.get_xticklabels(), rotation=45, ha=\"right\", fontsize=10,\n",
    " #        rotation_mode=\"anchor\")\n",
    "#plt.show\"\"\""
   ]
  },
  {
   "cell_type": "code",
   "execution_count": 70,
   "metadata": {},
   "outputs": [
    {
     "data": {
      "text/plain": [
       "<networkx.classes.graph.Graph at 0x2510ec2e610>"
      ]
     },
     "execution_count": 70,
     "metadata": {},
     "output_type": "execute_result"
    }
   ],
   "source": [
    "similarity_graph = nx.from_numpy_array(cosine_sim)\n",
    "similarity_graph"
   ]
  },
  {
   "cell_type": "code",
   "execution_count": 71,
   "metadata": {},
   "outputs": [],
   "source": [
    "from scipy.sparse.linalg import svds\n",
    "\n",
    "def low_rank_svd(matrix, singular_count):\n",
    "    u, s, vt = svds(matrix, k=singular_count)\n",
    "    return u, s, vt"
   ]
  },
  {
   "cell_type": "code",
   "execution_count": 72,
   "metadata": {},
   "outputs": [],
   "source": [
    "cv = CountVectorizer()\n",
    "cv_matrix = cv.fit_transform(sentences_list)"
   ]
  },
  {
   "cell_type": "code",
   "execution_count": 73,
   "metadata": {},
   "outputs": [
    {
     "name": "stdout",
     "output_type": "stream",
     "text": [
      "(71, 3) (3,) (3, 9)\n"
     ]
    }
   ],
   "source": [
    "num_sentences = len(sentences_list)\n",
    "num_topics = 3\n",
    "\n",
    "u, s, vt = low_rank_svd(td_matrix, num_topics)\n",
    "print(u.shape, s.shape, vt.shape)\n",
    "term_topic_mat, singular_values, topic_document_mat = u, s, vt"
   ]
  },
  {
   "cell_type": "code",
   "execution_count": 74,
   "metadata": {},
   "outputs": [
    {
     "data": {
      "text/plain": [
       "[(0.1253489987074468, 4),\n",
       " (0.11806941858269104, 5),\n",
       " (0.11774529342534415, 6),\n",
       " (0.11535241289031463, 0),\n",
       " (0.11070601758271584, 8),\n",
       " (0.1070600867097355, 3),\n",
       " (0.10536973328818475, 2),\n",
       " (0.10200935486387971, 7),\n",
       " (0.09833868394968771, 1)]"
      ]
     },
     "execution_count": 74,
     "metadata": {},
     "output_type": "execute_result"
    }
   ],
   "source": [
    "scores = nx.pagerank(similarity_graph)\n",
    "ranked_sentences = sorted(((score, index) for index, score\n",
    "                          in scores.items()),\n",
    "                         reverse=True)\n",
    "ranked_sentences"
   ]
  },
  {
   "cell_type": "code",
   "execution_count": 75,
   "metadata": {},
   "outputs": [
    {
     "name": "stdout",
     "output_type": "stream",
     "text": [
      "0 0.11535241289031463\n",
      "1 0.09833868394968771\n",
      "2 0.10536973328818475\n",
      "3 0.1070600867097355\n",
      "4 0.1253489987074468\n",
      "5 0.11806941858269104\n",
      "6 0.11774529342534415\n",
      "7 0.10200935486387971\n",
      "8 0.11070601758271584\n"
     ]
    },
    {
     "data": {
      "image/png": "[encoded data removed]",
      "text/plain": [
       "<Figure size 576x360 with 1 Axes>"
      ]
     },
     "metadata": {},
     "output_type": "display_data"
    }
   ],
   "source": [
    "plt.figure(figsize=(8,5))\n",
    "nx.draw_networkx(similarity_graph, node_color='lime')\n",
    "for i in scores:\n",
    "    print(i, scores[i])"
   ]
  },
  {
   "cell_type": "code",
   "execution_count": 76,
   "metadata": {},
   "outputs": [],
   "source": [
    "top_sentence = [ranked_sentences[index][1]\n",
    "               for index in range(num_sentences)]\n",
    "top_sentence.sort()"
   ]
  },
  {
   "cell_type": "code",
   "execution_count": 77,
   "metadata": {},
   "outputs": [
    {
     "name": "stdout",
     "output_type": "stream",
     "text": [
      "Mie instan adalah makanan yang rasannya sangat enak.\n",
      "Tak heran bila makanan in banyak dicintai oleh masyarakat.\n",
      "Namun ternyata sering mengkonsumsi mie instan membawa dampak buruk bagi tubuh.\n",
      "Terlalu banyak makan mie instan dapat meningkatkan risiko penyakit kanker, gangguan usus, ginjal hingga obesitas.\n",
      "Karena dampak buruk yang ditimbulkan, maka sebaiknya konsumsi mie instan dihindari.\n",
      "Sebisa mungkin ganti mie instan dengan makanan lain.\n",
      "Kalaupun ingin makan mie instan, sebaiknya beri tenggang waktu antara 2 – 3 hari.\n",
      "Jika sudah terbiasa dengan tenggang waktu tersebut, maka bisa diperpanjang menjadi 5 – 6 hari dan seterusnya.\n",
      "Hal ini dapat membantu siapapun mengurangi konsumsi mie instan dengan lebih baik.\n"
     ]
    }
   ],
   "source": [
    "print('\\n'.join(np.array(sentences_list)[top_sentence]))"
   ]
  },
  {
   "cell_type": "code",
   "execution_count": 78,
   "metadata": {},
   "outputs": [
    {
     "name": "stdout",
     "output_type": "stream",
     "text": [
      "0 0.11535241289031463\n",
      "1 0.09833868394968771\n",
      "2 0.10536973328818475\n",
      "3 0.1070600867097355\n",
      "4 0.1253489987074468\n",
      "5 0.11806941858269104\n",
      "6 0.11774529342534415\n",
      "7 0.10200935486387971\n",
      "8 0.11070601758271584\n"
     ]
    }
   ],
   "source": [
    "for i in scores:\n",
    "    print(i, scores[i])"
   ]
  },
  {
   "cell_type": "code",
   "execution_count": 79,
   "metadata": {},
   "outputs": [],
   "source": [
    "sentence_array = sorted(((scores[i], s) for i, s in enumerate(sentences_list)), reverse=True)\n",
    "sentence_array = np.asarray(sentence_array)"
   ]
  },
  {
   "cell_type": "code",
   "execution_count": 80,
   "metadata": {},
   "outputs": [
    {
     "name": "stdout",
     "output_type": "stream",
     "text": [
      "[['0.1253489987074468'\n",
      "  'Karena dampak buruk yang ditimbulkan, maka sebaiknya konsumsi mie instan dihindari.']\n",
      " ['0.11806941858269104'\n",
      "  'Sebisa mungkin ganti mie instan dengan makanan lain.']\n",
      " ['0.11774529342534415'\n",
      "  'Kalaupun ingin makan mie instan, sebaiknya beri tenggang waktu antara 2 – 3 hari.']\n",
      " ['0.11535241289031463'\n",
      "  'Mie instan adalah makanan yang rasannya sangat enak.']\n",
      " ['0.11070601758271584'\n",
      "  'Hal ini dapat membantu siapapun mengurangi konsumsi mie instan dengan lebih baik.']\n",
      " ['0.1070600867097355'\n",
      "  'Terlalu banyak makan mie instan dapat meningkatkan risiko penyakit kanker, gangguan usus, ginjal hingga obesitas.']\n",
      " ['0.10536973328818475'\n",
      "  'Namun ternyata sering mengkonsumsi mie instan membawa dampak buruk bagi tubuh.']\n",
      " ['0.10200935486387971'\n",
      "  'Jika sudah terbiasa dengan tenggang waktu tersebut, maka bisa diperpanjang menjadi 5 – 6 hari dan seterusnya.']\n",
      " ['0.09833868394968771'\n",
      "  'Tak heran bila makanan in banyak dicintai oleh masyarakat.']]\n"
     ]
    }
   ],
   "source": [
    "print(sentence_array)"
   ]
  },
  {
   "cell_type": "code",
   "execution_count": 81,
   "metadata": {},
   "outputs": [
    {
     "name": "stdout",
     "output_type": "stream",
     "text": [
      "0.1253489987074468\n",
      "0.09833868394968771\n"
     ]
    }
   ],
   "source": [
    "rank_max = float(sentence_array[0][0])\n",
    "rank_min = float(sentence_array[len(sentence_array) - 1][0])\n",
    "\n",
    "print(rank_max)\n",
    "print(rank_min)"
   ]
  },
  {
   "cell_type": "code",
   "execution_count": 82,
   "metadata": {},
   "outputs": [
    {
     "name": "stdout",
     "output_type": "stream",
     "text": [
      "9\n"
     ]
    }
   ],
   "source": [
    "temp_array = []\n",
    "\n",
    "# if all sentences have equal ranks, means they are all the same\n",
    "# taking any sentence will give the summary, say the first sentence\n",
    "flag = 0\n",
    "if rank_max - rank_min == 0:\n",
    "    temp_array.append(0)\n",
    "    flag = 1\n",
    "\n",
    "# If the sentence has different ranks\n",
    "if flag != 1:\n",
    "    for i in range(0, len(sentence_array)):\n",
    "        temp_array.append((float(sentence_array[i][0]) - rank_min) / (rank_max - rank_min))\n",
    "\n",
    "print(len(temp_array))\n"
   ]
  },
  {
   "cell_type": "code",
   "execution_count": 83,
   "metadata": {},
   "outputs": [],
   "source": [
    "threshold = (sum(temp_array) / len(temp_array)) + 0.2"
   ]
  },
  {
   "cell_type": "code",
   "execution_count": 84,
   "metadata": {},
   "outputs": [],
   "source": [
    "sentence_list = []\n",
    "if len(temp_array) > 1:\n",
    "    for i in range(0, len(temp_array)):\n",
    "        if temp_array[i] > threshold:\n",
    "                sentence_list.append(sentence_array[i][1])\n",
    "else:\n",
    "    sentence_list.append(sentence_array[0][1])"
   ]
  },
  {
   "cell_type": "code",
   "execution_count": 85,
   "metadata": {},
   "outputs": [],
   "source": [
    "model = sentence_list"
   ]
  },
  {
   "cell_type": "code",
   "execution_count": 86,
   "metadata": {},
   "outputs": [
    {
     "name": "stdout",
     "output_type": "stream",
     "text": [
      "Karena dampak buruk yang ditimbulkan, maka sebaiknya konsumsi mie instan dihindari.\n",
      "Sebisa mungkin ganti mie instan dengan makanan lain.\n",
      "Kalaupun ingin makan mie instan, sebaiknya beri tenggang waktu antara 2 – 3 hari.\n"
     ]
    }
   ],
   "source": [
    "for lines in sentence_list:\n",
    "    print(lines)"
   ]
  },
  {
   "cell_type": "code",
   "execution_count": 56,
   "metadata": {},
   "outputs": [],
   "source": [
    "ori_article = ' '.join(map(str, sentences_list))\n",
    "gen_sum = ' '.join(map(str, sentence_list))\n",
    "ref_sum = ' '.join(map(str, ref_sentences_list))"
   ]
  },
  {
   "cell_type": "code",
   "execution_count": 58,
   "metadata": {},
   "outputs": [
    {
     "name": "stdout",
     "output_type": "stream",
     "text": [
      "-----------------------------------------------------\n",
      "Original article\n",
      "Merdeka.com - Presiden Joko Widodo (Jokowi) memimpin upacara penurunan bendera di Halaman Istana Merdeka,   Jakarta. Usai prosesi penurunan bendera dilakukan, Jokowi kembali bagi-bagi sepeda kepada tamu undangan yang mengenakan pakaian adat terbaik. Berbeda dengan saat upacara pengibaran bendera, bagi-bagi sepeda kali ini diumumkan oleh Wakil Presiden Jusuf Kalla (JK). Hal berbeda juga terjadi bagi mereka yang menerima. Apabila sepeda diberikan ke pejabat negara mau pun keluarga, kali ini sepeda diberikan kepada masyarakat biasa. \" Seperti tadi pagi, sore ini juga panitia membentuk tim penilai untuk menilai siapa yang berbusana tradisional adat - adat daerah yang paling baik sore ini, \" kata JK. Kelima penerima sepeda di antaranya, Frans Maksim yang merupakan Kepala Suku Arfak, Papua, Ratna Dewi Budiono yang mengenakan pakaian adat Dayak, Yusak Rumambi yang mengenakan pakaian adat Sulawesi Utara, Teuku Johan Marzuki yang mengenakan pakaian adat Aceh. Terakhir, ada Sumahartarti yang mengenakan pakaian adat asal Bengkulu. \" Silakan semua datang ke panggung. Mendapat sepeda dari Bapak Presiden bisa langsung dipakai keliling - keliling nanti, \" ujarnya. Pada Upacara Pengibaran Bendera, lima orang menggunakan pakaian adat terbaik, yakni Menteri Hukum dan Hak Asasi Manusia (Menkum HAM) Yasonna Hamonangan Laoly dengan pakaian adat Nias, Ketua DPD RI Oesman Sapta Odang yang menggunakan pakaian adat Minang, dan Asisten Ajudan Presiden Syarif Muhammad Fidriansyah dengan pakaian adat Dayak, Kalimantan Barat. Dua orang lainnya adalah istri Kapolri Jenderal Pol Tito Karnavian, Tri Suswati yang mengenakan pakaian adat Papua, dan istri Wakil Ketua MPR Mahyudin, Agati Suli menggunakan baju adat Dayak. [bal]\n",
      "-----------------------------------------------------\n",
      "Original summary\n",
      "Jokowi memimpin upacara penurunan bendera. Usai prosesi tersebut, Jokowi bagi-bagi sepeda kepada tamu undangan yang mengenakan pakaian adat terbaik. Berbeda dengan saat upacara pengibaran bendera, bagi-bagi sepeda kali ini diumumkan oleh Wakil Presiden Jusuf Kalla (JK). Hal berbeda juga terjadi bagi mereka yang menerima. Apabila sepeda diberikan ke pejabat negara mau pun keluarga, kali ini sepeda diberikan kepada masyarakat biasa.\n",
      "-----------------------------------------------------\n",
      "Generated summary\n",
      "Usai prosesi penurunan bendera dilakukan, Jokowi kembali bagi-bagi sepeda kepada tamu undangan yang mengenakan pakaian adat terbaik. Kelima penerima sepeda di antaranya, Frans Maksim yang merupakan Kepala Suku Arfak, Papua, Ratna Dewi Budiono yang mengenakan pakaian adat Dayak, Yusak Rumambi yang mengenakan pakaian adat Sulawesi Utara, Teuku Johan Marzuki yang mengenakan pakaian adat Aceh. Berbeda dengan saat upacara pengibaran bendera, bagi-bagi sepeda kali ini diumumkan oleh Wakil Presiden Jusuf Kalla (JK). Pada Upacara Pengibaran Bendera, lima orang menggunakan pakaian adat terbaik, yakni Menteri Hukum dan Hak Asasi Manusia (Menkum HAM) Yasonna Hamonangan Laoly dengan pakaian adat Nias, Ketua DPD RI Oesman Sapta Odang yang menggunakan pakaian adat Minang, dan Asisten Ajudan Presiden Syarif Muhammad Fidriansyah dengan pakaian adat Dayak, Kalimantan Barat.\n",
      "-----------------------------------------------------\n"
     ]
    }
   ],
   "source": [
    "print(\"-----------------------------------------------------\")\n",
    "print(\"Original article\")\n",
    "print(ori_article)\n",
    "print(\"-----------------------------------------------------\")\n",
    "print(\"Original summary\")\n",
    "print(ref_sum)\n",
    "print(\"-----------------------------------------------------\")\n",
    "print(\"Generated summary\")\n",
    "print(gen_sum)\n",
    "print(\"-----------------------------------------------------\")"
   ]
  },
  {
   "cell_type": "code",
   "execution_count": 59,
   "metadata": {},
   "outputs": [
    {
     "data": {
      "text/plain": [
       "[{'rouge-1': {'r': 0.6122448979591837,\n",
       "   'p': 0.3333333333333333,\n",
       "   'f': 0.4316546716940118},\n",
       "  'rouge-2': {'r': 0.4642857142857143,\n",
       "   'p': 0.2524271844660194,\n",
       "   'f': 0.32704402059412213},\n",
       "  'rouge-l': {'r': 0.6122448979591837,\n",
       "   'p': 0.3333333333333333,\n",
       "   'f': 0.4316546716940118}}]"
      ]
     },
     "execution_count": 59,
     "metadata": {},
     "output_type": "execute_result"
    }
   ],
   "source": [
    "from rouge import Rouge \n",
    "\n",
    "rouge = Rouge()\n",
    "scores1 = rouge.get_scores(gen_sum, ref_sum)\n",
    "scores1"
   ]
  },
  {
   "cell_type": "code",
   "execution_count": 60,
   "metadata": {},
   "outputs": [
    {
     "ename": "TypeError",
     "evalue": "unsupported operand type(s) for +=: 'dict' and 'list'",
     "output_type": "error",
     "traceback": [
      "\u001b[1;31m---------------------------------------------------------------------------\u001b[0m",
      "\u001b[1;31mTypeError\u001b[0m                                 Traceback (most recent call last)",
      "\u001b[1;32m<ipython-input-60-833d3cc10633>\u001b[0m in \u001b[0;36m<module>\u001b[1;34m\u001b[0m\n\u001b[1;32m----> 1\u001b[1;33m \u001b[0mscores\u001b[0m \u001b[1;33m+=\u001b[0m \u001b[0mscores1\u001b[0m\u001b[1;33m\u001b[0m\u001b[1;33m\u001b[0m\u001b[0m\n\u001b[0m",
      "\u001b[1;31mTypeError\u001b[0m: unsupported operand type(s) for +=: 'dict' and 'list'"
     ]
    }
   ],
   "source": [
    "scores += scores1"
   ]
  },
  {
   "cell_type": "code",
   "execution_count": 61,
   "metadata": {},
   "outputs": [
    {
     "data": {
      "text/plain": [
       "{0: 0.06513166344549921,\n",
       " 1: 0.09514066050854701,\n",
       " 2: 0.08580483583885543,\n",
       " 3: 0.06978648041334534,\n",
       " 4: 0.07177743286701783,\n",
       " 5: 0.07272008519539581,\n",
       " 6: 0.09037453880438404,\n",
       " 7: 0.07703639637875465,\n",
       " 8: 0.06963929772785225,\n",
       " 9: 0.06524717972505753,\n",
       " 10: 0.08533135844103013,\n",
       " 11: 0.0750869937311839,\n",
       " 12: 0.07692307692307693}"
      ]
     },
     "execution_count": 61,
     "metadata": {},
     "output_type": "execute_result"
    }
   ],
   "source": [
    "scores"
   ]
  },
  {
   "cell_type": "code",
   "execution_count": 98,
   "metadata": {},
   "outputs": [
    {
     "data": {
      "text/plain": [
       "0.22641508968850135"
      ]
     },
     "execution_count": 98,
     "metadata": {},
     "output_type": "execute_result"
    }
   ],
   "source": [
    "scores[0].get('rouge-l').get('f')"
   ]
  },
  {
   "cell_type": "code",
   "execution_count": 105,
   "metadata": {},
   "outputs": [
    {
     "name": "stdout",
     "output_type": "stream",
     "text": [
      "0.22641508968850135\n",
      "0.3299999968605\n"
     ]
    }
   ],
   "source": [
    "for i in range(len(scores)):\n",
    "    print(scores[i].get('rouge-l').get('f'))\n",
    "    f1 += scores[i].get('rouge-l').get('f')"
   ]
  },
  {
   "cell_type": "code",
   "execution_count": 106,
   "metadata": {},
   "outputs": [
    {
     "data": {
      "text/plain": [
       "0.5564150865490014"
      ]
     },
     "execution_count": 106,
     "metadata": {},
     "output_type": "execute_result"
    }
   ],
   "source": [
    "f1"
   ]
  },
  {
   "cell_type": "code",
   "execution_count": 81,
   "metadata": {},
   "outputs": [
    {
     "data": {
      "text/plain": [
       "{'rouge-1': {'r': 0.358974358974359,\n",
       "  'p': 0.208955223880597,\n",
       "  'f': 0.2641509387451051},\n",
       " 'rouge-2': {'r': 0.14583333333333334,\n",
       "  'p': 0.08235294117647059,\n",
       "  'f': 0.10526315328170069},\n",
       " 'rouge-l': {'r': 0.3076923076923077,\n",
       "  'p': 0.1791044776119403,\n",
       "  'f': 0.22641508968850135}}"
      ]
     },
     "execution_count": 81,
     "metadata": {},
     "output_type": "execute_result"
    }
   ],
   "source": [
    "scores[0]"
   ]
  },
  {
   "cell_type": "code",
   "execution_count": null,
   "metadata": {},
   "outputs": [],
   "source": []
  }
 ],
 "metadata": {
  "interpreter": {
   "hash": "f20cbc0640366bcdf0ad60817effc05e340f0f8749a888d8afe70b368e71c5bc"
  },
  "kernelspec": {
   "display_name": "Python 3",
   "language": "python",
   "name": "python3"
  },
  "language_info": {
   "codemirror_mode": {
    "name": "ipython",
    "version": 3
   },
   "file_extension": ".py",
   "mimetype": "text/x-python",
   "name": "python",
   "nbconvert_exporter": "python",
   "pygments_lexer": "ipython3",
   "version": "3.9.4"
  }
 },
 "nbformat": 4,
 "nbformat_minor": 2
}
